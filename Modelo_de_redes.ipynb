{
  "nbformat": 4,
  "nbformat_minor": 0,
  "metadata": {
    "colab": {
      "provenance": [],
      "authorship_tag": "ABX9TyNxdn/3JSlcj9DpeQEBt4Dc",
      "include_colab_link": true
    },
    "kernelspec": {
      "name": "python3",
      "display_name": "Python 3"
    },
    "language_info": {
      "name": "python"
    }
  },
  "cells": [
    {
      "cell_type": "markdown",
      "metadata": {
        "id": "view-in-github",
        "colab_type": "text"
      },
      "source": [
        "<a href=\"https://colab.research.google.com/github/Ricardo19-art/Investigaci-n-de-Operaciones-/blob/main/Modelo_de_redes.ipynb\" target=\"_parent\"><img src=\"https://colab.research.google.com/assets/colab-badge.svg\" alt=\"Open In Colab\"/></a>"
      ]
    },
    {
      "cell_type": "markdown",
      "source": [
        "# <font color=\"RoyalBlue\"> Introduccion a Networkx</font>"
      ],
      "metadata": {
        "id": "8TiS5uotCuBD"
      }
    },
    {
      "cell_type": "markdown",
      "source": [
        "Networkx es una libreria de python la cual es idonea para trabajar con grafos(redes) aun nivel medio-avanzado con un manejor relativamnte facil de sus comandos."
      ],
      "metadata": {
        "id": "6pD6FlxzBwvp"
      }
    },
    {
      "cell_type": "markdown",
      "source": [
        "**NetworX nos ofrece cuatro clases de grafos**\n",
        "\n",
        "*   Graph: Grafo no dirigido\n",
        "*   Digraph: Grafo dirigido\n",
        "*   Multigraph: Grafo no dirigido con múltiples aristas entre nodos\n",
        "*   MultiDigraph: Grafo dirigido con múltiples aristas\n",
        "\n"
      ],
      "metadata": {
        "id": "-Tp_YSMaMu7K"
      }
    },
    {
      "cell_type": "markdown",
      "source": [
        "### <font color=\"SeaGreen\"> Y que es un grafo?</font>"
      ],
      "metadata": {
        "id": "ySp-ac5AFJlH"
      }
    },
    {
      "cell_type": "markdown",
      "source": [
        "Este se donomina como una estructura de datos interconectados que consiste de **nodos(puntos)** conectectados mediante **aristas(lineas)**."
      ],
      "metadata": {
        "id": "jqfHIDQUDwvr"
      }
    },
    {
      "cell_type": "markdown",
      "source": [
        "### <font color=\"Purple\"> Importamos nuestras librerias </font>"
      ],
      "metadata": {
        "id": "r5SBlq8QJVoh"
      }
    },
    {
      "cell_type": "code",
      "execution_count": 512,
      "metadata": {
        "id": "jjhWVtrhXXLj"
      },
      "outputs": [],
      "source": [
        "import networkx as nx  # Importa la libreria de networkx y le asigna una abreviatura (nx)\n",
        "import matplotlib.pyplot as plt   #Importa la libreria matplotlib para graficar de mejor manera en conjunto con networkx"
      ]
    },
    {
      "cell_type": "markdown",
      "source": [
        "# <font color=\"Crimson\"> Creamos nuestro grafo no dirigido</font>\n",
        "\n"
      ],
      "metadata": {
        "id": "GSN7N9Mf_jIp"
      }
    },
    {
      "cell_type": "code",
      "source": [
        "G_nd = nx.Graph()     # Crea un grafo vacio"
      ],
      "metadata": {
        "id": "woCDIvN0AKIW"
      },
      "execution_count": 513,
      "outputs": []
    },
    {
      "cell_type": "markdown",
      "source": [
        "### <font color=\"DarkOrange\"> Creamos nuestros nodos (O, P y Q) y los unimos formando nuestra red</font>"
      ],
      "metadata": {
        "id": "Xjeq6dvKARZz"
      }
    },
    {
      "cell_type": "code",
      "source": [
        "G_nd.add_edge(\"O\", \"P\")   # Genera un arco que une O y P\n",
        "G_nd.add_edge(\"P\", \"Q\")   # Genera un arco que une P y R\n",
        "G_nd.add_edge(\"Q\", \"O\")   # Genera un arco que une R y O"
      ],
      "metadata": {
        "id": "a9Gjfr7BAU6v"
      },
      "execution_count": 514,
      "outputs": []
    },
    {
      "cell_type": "markdown",
      "source": [
        "### <font color=\"DarkOrange\"> Obtenemos el tipo de gráfico que es G</font>"
      ],
      "metadata": {
        "id": "I9bu8xbuAxqC"
      }
    },
    {
      "cell_type": "code",
      "source": [
        "G_nd   # Nos regresa el tipo de gráfico"
      ],
      "metadata": {
        "colab": {
          "base_uri": "https://localhost:8080/"
        },
        "outputId": "54409608-40fb-4d3b-a297-19d7184718c3",
        "id": "e25YldNdA0Lb"
      },
      "execution_count": 515,
      "outputs": [
        {
          "output_type": "execute_result",
          "data": {
            "text/plain": [
              "<networkx.classes.graph.Graph at 0x7c505cd26720>"
            ]
          },
          "metadata": {},
          "execution_count": 515
        }
      ]
    },
    {
      "cell_type": "markdown",
      "source": [
        "### <font color=\"DarkOrange\"> Imprimimos nuestra gráfica con nuestros nodos y sus respectivos arcos</font>"
      ],
      "metadata": {
        "id": "UHEm-6L6BBz1"
      }
    },
    {
      "cell_type": "code",
      "source": [
        "nx.draw_networkx(G_nd, with_labels=True,   # with_labes hace que se vean los nombres de los nodos\n",
        "                 node_color=\"lightblue\")   # Le da el color deseado a nuestros nodos\n",
        "plt.title(\"Grafo no dirigido\")       # Sirve para colocarle el nombre a la gráfica\n",
        "plt.show()                                 # Muestra el grafo"
      ],
      "metadata": {
        "colab": {
          "base_uri": "https://localhost:8080/",
          "height": 428
        },
        "outputId": "6f591e4a-46ce-40ac-ede2-f5912b16fcaa",
        "id": "5EItzNbNBFkn"
      },
      "execution_count": 516,
      "outputs": [
        {
          "output_type": "display_data",
          "data": {
            "text/plain": [
              "<Figure size 640x480 with 1 Axes>"
            ],
            "image/png": "[encoded data removed]"
          },
          "metadata": {}
        }
      ]
    },
    {
      "cell_type": "markdown",
      "source": [
        "### <font color=\"DarkOrange\"> Obtenemos todos los nodos de nuestra red</font>"
      ],
      "metadata": {
        "id": "cnz9Diq1CRXi"
      }
    },
    {
      "cell_type": "code",
      "source": [
        "nx.nodes(G_nd)   # Nos regresa los nodos de la red\n",
        "\n",
        "print(\"Nodos:\", nx.nodes(G_nd))   # Imprimimos los ndoos de la red"
      ],
      "metadata": {
        "colab": {
          "base_uri": "https://localhost:8080/"
        },
        "outputId": "795f0b10-7d18-435a-e2e1-addf17419f44",
        "id": "B4NR9lmICVMH"
      },
      "execution_count": 517,
      "outputs": [
        {
          "output_type": "stream",
          "name": "stdout",
          "text": [
            "Nodos: ['O', 'P', 'Q']\n"
          ]
        }
      ]
    },
    {
      "cell_type": "markdown",
      "source": [
        "### <font color=\"DarkOrange\"> Obtenemos todos los arcos con sus respectivos nodos de nuestra red</font>"
      ],
      "metadata": {
        "id": "xLZmqSuoC8W7"
      }
    },
    {
      "cell_type": "code",
      "source": [
        "nx.edges(G_nd)   # Nos regresa los arcos entre cada nodo de la red\n",
        "\n",
        "print(\"Arcos:\", nx.edges(G_nd))   # Imprimios los arcos entre cada nod de la red"
      ],
      "metadata": {
        "colab": {
          "base_uri": "https://localhost:8080/"
        },
        "outputId": "e74ed8fa-218f-48b2-839b-0b631bb977f3",
        "id": "ZHyTuWLtC4M9"
      },
      "execution_count": 518,
      "outputs": [
        {
          "output_type": "stream",
          "name": "stdout",
          "text": [
            "Arcos: [('O', 'P'), ('O', 'Q'), ('P', 'Q')]\n"
          ]
        }
      ]
    },
    {
      "cell_type": "markdown",
      "source": [
        "### <font color=\"DarkOrange\"> Obtenemos el número total de nodos</font>"
      ],
      "metadata": {
        "id": "-HFqfu7hDNSl"
      }
    },
    {
      "cell_type": "code",
      "source": [
        "nx.number_of_nodes(G_nd)   # Nos regresa el número de nodos\n",
        "\n",
        "print(\"Número de nodos:\", nx.number_of_nodes(G_nd))    # Imprime el número total de nodos"
      ],
      "metadata": {
        "colab": {
          "base_uri": "https://localhost:8080/"
        },
        "outputId": "0b36a8bb-13dc-4d48-c766-c27924aa767e",
        "id": "TQDNTpI8DFoK"
      },
      "execution_count": 519,
      "outputs": [
        {
          "output_type": "stream",
          "name": "stdout",
          "text": [
            "Número de nodos: 3\n"
          ]
        }
      ]
    },
    {
      "cell_type": "markdown",
      "source": [
        "### <font color=\"DarkOrange\"> Obtenemos el número total de arcos</font>"
      ],
      "metadata": {
        "id": "pG3ZFv6sDSAU"
      }
    },
    {
      "cell_type": "code",
      "source": [
        "nx.number_of_edges(G_nd)    # Nos regresa el número de arcos\n",
        "\n",
        "print(\"Número de arcos:\", nx.number_of_edges(G_nd))    # Imprime el número total de arcos"
      ],
      "metadata": {
        "colab": {
          "base_uri": "https://localhost:8080/"
        },
        "outputId": "853c8453-852a-42a7-e5a9-dbba2f38fd84",
        "id": "7f4qEJnTDaBy"
      },
      "execution_count": 520,
      "outputs": [
        {
          "output_type": "stream",
          "name": "stdout",
          "text": [
            "Número de arcos: 3\n"
          ]
        }
      ]
    },
    {
      "cell_type": "markdown",
      "source": [
        "### <font color=\"DarkOrange\"> Obtenemos el número de conexiones por nodo </font>\n"
      ],
      "metadata": {
        "id": "5TPb14uhDhA8"
      }
    },
    {
      "cell_type": "code",
      "source": [
        "dict(G_nd.degree)\n",
        "\n",
        "print(\"Numero de conexiones por nodo:\", dict(G_nd.degree))"
      ],
      "metadata": {
        "colab": {
          "base_uri": "https://localhost:8080/"
        },
        "outputId": "8345a99d-30f6-4a1e-f1b8-b62c18beacb7",
        "id": "FOMBvetqDlIP"
      },
      "execution_count": 521,
      "outputs": [
        {
          "output_type": "stream",
          "name": "stdout",
          "text": [
            "Numero de conexiones por nodo: {'O': 2, 'P': 2, 'Q': 2}\n"
          ]
        }
      ]
    },
    {
      "cell_type": "markdown",
      "source": [
        "# <font color=\"Crimson\"> Creamos nuestro grafo dirigido </font>"
      ],
      "metadata": {
        "id": "TqIu7prcJazM"
      }
    },
    {
      "cell_type": "code",
      "source": [
        "G = nx.Graph()     # Crea un grafo vacio"
      ],
      "metadata": {
        "id": "wCZ7XrNgJ0dK"
      },
      "execution_count": 522,
      "outputs": []
    },
    {
      "cell_type": "markdown",
      "source": [
        "### <font color=\"DarkOrange\"> Creamos nuestros nodos (X, Y y Z) y los unimos formando nuestra red</font>"
      ],
      "metadata": {
        "id": "wIVp8pBCJ9GH"
      }
    },
    {
      "cell_type": "code",
      "source": [
        "G.add_edge(\"X\", \"Y\")   # Genera un arco que une X y Y\n",
        "G.add_edge(\"Y\", \"Z\")   # Genera un arco que une Y y Z\n",
        "G.add_edge(\"Z\", \"X\")   # Genera un arco que une Z y X"
      ],
      "metadata": {
        "id": "O2iyMLJoJ-8N"
      },
      "execution_count": 523,
      "outputs": []
    },
    {
      "cell_type": "markdown",
      "source": [
        "### <font color=\"DarkOrange\"> Obtenemos el tipo de gráfico que es G</font>"
      ],
      "metadata": {
        "id": "SGdubzEkKwIC"
      }
    },
    {
      "cell_type": "code",
      "source": [
        "G   # Nos regresa el tipo de gráfico"
      ],
      "metadata": {
        "colab": {
          "base_uri": "https://localhost:8080/"
        },
        "outputId": "3baf6d5c-7d79-487a-f2a9-583c2619a5aa",
        "id": "RPEQmCfeKz1j"
      },
      "execution_count": 524,
      "outputs": [
        {
          "output_type": "execute_result",
          "data": {
            "text/plain": [
              "<networkx.classes.graph.Graph at 0x7c505d68b8f0>"
            ]
          },
          "metadata": {},
          "execution_count": 524
        }
      ]
    },
    {
      "cell_type": "markdown",
      "source": [
        "### <font color=\"DarkOrange\"> Imprimimos nuestra gráfica con nuestros nodos y sus respectivos arcos</font>"
      ],
      "metadata": {
        "id": "Gu9FAWY7K59g"
      }
    },
    {
      "cell_type": "code",
      "source": [
        "nx.draw_networkx(G, with_labels=True,                                   # with_labes hace que se vean los nombres de los nodos\n",
        "                 node_color=\"yellow\")                                    # Le da el color deseado a nuestros nodos\n",
        "plt.title(\"Grafo dirigido\")                                             # Sirve para colocarle el nombre a la gráfica\n",
        "plt.show()                                                              # Muestra el grafo"
      ],
      "metadata": {
        "colab": {
          "base_uri": "https://localhost:8080/",
          "height": 428
        },
        "outputId": "e73b2dd2-7b95-4293-f3fc-330dfa80bf17",
        "id": "D_7dn3dIK_8s"
      },
      "execution_count": 525,
      "outputs": [
        {
          "output_type": "display_data",
          "data": {
            "text/plain": [
              "<Figure size 640x480 with 1 Axes>"
            ],
            "image/png": "[encoded data removed]"
          },
          "metadata": {}
        }
      ]
    },
    {
      "cell_type": "markdown",
      "source": [
        "### <font color=\"DarkOrange\"> Obtenemos todos los nodos de nuestra red</font>"
      ],
      "metadata": {
        "id": "hMtVuE3PLglY"
      }
    },
    {
      "cell_type": "code",
      "source": [
        "nx.nodes(G)   # Nos regresa los nodos de la red\n",
        "\n",
        "print(\"Nodos:\", nx.nodes(G))   # Imprimimos los ndoos de la red"
      ],
      "metadata": {
        "colab": {
          "base_uri": "https://localhost:8080/"
        },
        "outputId": "6f189e20-0534-466c-d8fd-c457fc62cc97",
        "id": "pVvwmhldLk_Z"
      },
      "execution_count": 526,
      "outputs": [
        {
          "output_type": "stream",
          "name": "stdout",
          "text": [
            "Nodos: ['X', 'Y', 'Z']\n"
          ]
        }
      ]
    },
    {
      "cell_type": "markdown",
      "source": [
        "### <font color=\"DarkOrange\"> Obtenemos todos los arcos con sus respectivos nodos de nuestra red</font>"
      ],
      "metadata": {
        "id": "mgB6QpT8LsJH"
      }
    },
    {
      "cell_type": "code",
      "source": [
        "nx.edges(G)   # Nos regresa los arcos entre cada nodo de la red\n",
        "\n",
        "print(\"Arcos:\", nx.edges(G))   # Imprimios los arcos entre cada nod de la red"
      ],
      "metadata": {
        "colab": {
          "base_uri": "https://localhost:8080/"
        },
        "outputId": "88ed3c9f-0f4e-426a-a799-3f10c8483c3e",
        "id": "ZACmZeGALvbo"
      },
      "execution_count": 527,
      "outputs": [
        {
          "output_type": "stream",
          "name": "stdout",
          "text": [
            "Arcos: [('X', 'Y'), ('X', 'Z'), ('Y', 'Z')]\n"
          ]
        }
      ]
    },
    {
      "cell_type": "markdown",
      "source": [
        "### <font color=\"DarkOrange\"> Obtenemos el número total de nodos</font>"
      ],
      "metadata": {
        "id": "jo76nSPWMBpr"
      }
    },
    {
      "cell_type": "code",
      "source": [
        "nx.number_of_nodes(G)   # Nos regresa el número de nodos\n",
        "\n",
        "print(\"Número de nodos:\", nx.number_of_nodes(G))    # Imprime el número total de nodos"
      ],
      "metadata": {
        "colab": {
          "base_uri": "https://localhost:8080/"
        },
        "outputId": "96879f02-c8ba-4106-d4ab-8b8d219b9f42",
        "id": "asLYa8QtMFDy"
      },
      "execution_count": 528,
      "outputs": [
        {
          "output_type": "stream",
          "name": "stdout",
          "text": [
            "Número de nodos: 3\n"
          ]
        }
      ]
    },
    {
      "cell_type": "markdown",
      "source": [
        "### <font color=\"DarkOrange\"> Obtenemos el número total de arcos</font>"
      ],
      "metadata": {
        "id": "LZyTIQDFMMSb"
      }
    },
    {
      "cell_type": "code",
      "source": [
        "nx.number_of_edges(G)    # Nos regresa el número de arcos\n",
        "\n",
        "print(\"Número de arcos:\", nx.number_of_edges(G))    # Imprime el número total de arcos"
      ],
      "metadata": {
        "colab": {
          "base_uri": "https://localhost:8080/"
        },
        "outputId": "fea2e794-0044-4a44-97a0-a5fd8692235a",
        "id": "SqwuY9G0MP9Q"
      },
      "execution_count": 529,
      "outputs": [
        {
          "output_type": "stream",
          "name": "stdout",
          "text": [
            "Número de arcos: 3\n"
          ]
        }
      ]
    },
    {
      "cell_type": "markdown",
      "source": [
        "### <font color=\"DarkOrange\"> Obtenemos el número de conexiones por nodo </font>\n"
      ],
      "metadata": {
        "id": "ZSJ3mRrdMevi"
      }
    },
    {
      "cell_type": "code",
      "source": [
        "dict(G.degree)\n",
        "\n",
        "print(\"Numero de conexiones por nodo:\", dict(G.degree))"
      ],
      "metadata": {
        "colab": {
          "base_uri": "https://localhost:8080/"
        },
        "outputId": "3d75e45d-0b4e-4b81-d77c-b8890791a2ee",
        "id": "OrWc-MBUMjR7"
      },
      "execution_count": 530,
      "outputs": [
        {
          "output_type": "stream",
          "name": "stdout",
          "text": [
            "Numero de conexiones por nodo: {'X': 2, 'Y': 2, 'Z': 2}\n"
          ]
        }
      ]
    },
    {
      "cell_type": "markdown",
      "source": [
        "# <font color=\"Crimson\"> Creamos nuestro grafo no dirigido con múltiples aristas entre nodos </font>"
      ],
      "metadata": {
        "id": "CJBvRPDkZv1H"
      }
    },
    {
      "cell_type": "code",
      "source": [
        "G_nd_ma = nx.Graph()     # Crea un grafo vacio"
      ],
      "metadata": {
        "id": "UI_gSklMZ7FX"
      },
      "execution_count": 531,
      "outputs": []
    },
    {
      "cell_type": "markdown",
      "source": [
        "### <font color=\"DarkOrange\"> Creamos nuestros nodos (1, 2, 3, 4 y 5) y los unimos formando nuestra red</font>"
      ],
      "metadata": {
        "id": "Zau90OahTZFd"
      }
    },
    {
      "cell_type": "code",
      "source": [
        "G_nd_ma.add_edge(\"1\", \"2\")   # Genera un arco que une 1 y 2\n",
        "G_nd_ma.add_edge(\"1\", \"4\")   # Genera un arco que une 1 y 4\n",
        "G_nd_ma.add_edge(\"2\", \"3\")   # Genera un arco que une 2 y 3\n",
        "G_nd_ma.add_edge(\"4\", \"1\")   # Genera un arco que une 4 y 1\n",
        "G_nd_ma.add_edge(\"5\", \"2\")   # Genera un arco que une 5 y 2\n",
        "G_nd_ma.add_edge(\"5\", \"1\")   # Genera un arco que une 5 y 1"
      ],
      "metadata": {
        "id": "Y30doPaAT5oF"
      },
      "execution_count": 532,
      "outputs": []
    },
    {
      "cell_type": "markdown",
      "source": [
        "### <font color=\"DarkOrange\"> Obtenemos el tipo de gráfico que es G</font>"
      ],
      "metadata": {
        "id": "HgYEfP7v5717"
      }
    },
    {
      "cell_type": "code",
      "source": [
        "G_nd_ma   # Nos regresa el tipo de gráfico"
      ],
      "metadata": {
        "colab": {
          "base_uri": "https://localhost:8080/"
        },
        "id": "EKN9Ylis5yst",
        "outputId": "6d4da4ea-ae04-46aa-c0e7-67b872513c32"
      },
      "execution_count": 533,
      "outputs": [
        {
          "output_type": "execute_result",
          "data": {
            "text/plain": [
              "<networkx.classes.graph.Graph at 0x7c506d5b91f0>"
            ]
          },
          "metadata": {},
          "execution_count": 533
        }
      ]
    },
    {
      "cell_type": "markdown",
      "source": [
        "### <font color=\"DarkOrange\"> Imprimimos nuestra gráfica con nuestros nodos y sus respectivos arcos</font>"
      ],
      "metadata": {
        "id": "ToZFazE63YZq"
      }
    },
    {
      "cell_type": "code",
      "source": [
        "nx.draw_networkx(G_nd_ma, with_labels=True,                                   # with_labes hace que se vean los nombres de los nodos\n",
        "                 node_color=\"orange\")                                         # Le da el color deseado a nuestros nodos\n",
        "plt.title(\"Grafo no dirigido con multiples aristas entre nodos\")              # Sirve para colocarle el nombre a la gráfica\n",
        "plt.show()                                                                    # Muestra el grafo"
      ],
      "metadata": {
        "colab": {
          "base_uri": "https://localhost:8080/",
          "height": 428
        },
        "id": "0jUf8bXwVJ4p",
        "outputId": "642fe938-6c5f-498d-f2eb-d6535b9a3321"
      },
      "execution_count": 534,
      "outputs": [
        {
          "output_type": "display_data",
          "data": {
            "text/plain": [
              "<Figure size 640x480 with 1 Axes>"
            ],
            "image/png": "[encoded data removed]"
          },
          "metadata": {}
        }
      ]
    },
    {
      "cell_type": "markdown",
      "source": [
        "### <font color=\"DarkOrange\"> Obtenemos todos los nodos de nuestra red</font>"
      ],
      "metadata": {
        "id": "rTt2d19hHypF"
      }
    },
    {
      "cell_type": "code",
      "source": [
        "nx.nodes(G_nd_ma)   # Nos regresa los nodos de la red\n",
        "\n",
        "print(\"Nodos:\", nx.nodes(G_nd_ma))   # Imprimimos los ndoos de la red"
      ],
      "metadata": {
        "colab": {
          "base_uri": "https://localhost:8080/"
        },
        "id": "kwM7NRAlWNPe",
        "outputId": "eeb65b91-31b4-4c6c-9f72-122252d7cc6f"
      },
      "execution_count": 535,
      "outputs": [
        {
          "output_type": "stream",
          "name": "stdout",
          "text": [
            "Nodos: ['1', '2', '4', '3', '5']\n"
          ]
        }
      ]
    },
    {
      "cell_type": "markdown",
      "source": [
        "### <font color=\"DarkOrange\"> Obtenemos todos los arcos con sus respectivos nodos de nuestra red</font>"
      ],
      "metadata": {
        "id": "N39slKCI4DL6"
      }
    },
    {
      "cell_type": "code",
      "source": [
        "nx.edges(G_nd_ma)   # Nos regresa los arcos entre cada nodo de la red\n",
        "\n",
        "print(\"Arcos:\", nx.edges(G_nd_ma))   # Imprimios los arcos entre cada nod de la red"
      ],
      "metadata": {
        "id": "p9Rk8z2fWemX",
        "colab": {
          "base_uri": "https://localhost:8080/"
        },
        "outputId": "fac61002-552e-4991-ffb1-58fe746c2e81"
      },
      "execution_count": 536,
      "outputs": [
        {
          "output_type": "stream",
          "name": "stdout",
          "text": [
            "Arcos: [('1', '2'), ('1', '4'), ('1', '5'), ('2', '3'), ('2', '5')]\n"
          ]
        }
      ]
    },
    {
      "cell_type": "markdown",
      "source": [
        "### <font color=\"DarkOrange\"> Obtenemos el número total de nodos</font>"
      ],
      "metadata": {
        "id": "r_oE9o7v6k6A"
      }
    },
    {
      "cell_type": "code",
      "source": [
        "nx.number_of_nodes(G_nd_ma)   # Nos regresa el número de nodos\n",
        "\n",
        "print(\"Número de nodos:\", nx.number_of_nodes(G_nd_ma))    # Imprime el número total de nodos"
      ],
      "metadata": {
        "colab": {
          "base_uri": "https://localhost:8080/"
        },
        "id": "sPkkX_Pg6YYI",
        "outputId": "a6883559-eaf1-4737-b807-eea9e3629119"
      },
      "execution_count": 537,
      "outputs": [
        {
          "output_type": "stream",
          "name": "stdout",
          "text": [
            "Número de nodos: 5\n"
          ]
        }
      ]
    },
    {
      "cell_type": "markdown",
      "source": [
        "### <font color=\"DarkOrange\"> Obtenemos el número total de arcos</font>"
      ],
      "metadata": {
        "id": "kD_wB-2W66Da"
      }
    },
    {
      "cell_type": "code",
      "source": [
        "nx.number_of_edges(G_nd_ma)    # Nos regresa el número de arcos\n",
        "\n",
        "print(\"Número de arcos:\", nx.number_of_edges(G_nd_ma))    # Imprime el número total de arcos"
      ],
      "metadata": {
        "colab": {
          "base_uri": "https://localhost:8080/"
        },
        "id": "BM-OY40C6qww",
        "outputId": "1a6889e1-353c-45c5-88bf-e6f346c61a4a"
      },
      "execution_count": 538,
      "outputs": [
        {
          "output_type": "stream",
          "name": "stdout",
          "text": [
            "Número de arcos: 5\n"
          ]
        }
      ]
    },
    {
      "cell_type": "markdown",
      "source": [
        "### <font color=\"DarkOrange\"> Obtenemos el número de conexiones por nodo </font>\n"
      ],
      "metadata": {
        "id": "6Aik9KHO80lD"
      }
    },
    {
      "cell_type": "code",
      "source": [
        "dict(G_nd_ma.degree)\n",
        "\n",
        "print(\"Numero de conexiones por nodo:\", dict(G_nd_ma.degree))"
      ],
      "metadata": {
        "colab": {
          "base_uri": "https://localhost:8080/"
        },
        "id": "XMSrlsrs9WCf",
        "outputId": "a7414466-95b6-4073-f00d-b1b91260347d"
      },
      "execution_count": 539,
      "outputs": [
        {
          "output_type": "stream",
          "name": "stdout",
          "text": [
            "Numero de conexiones por nodo: {'1': 3, '2': 3, '4': 1, '3': 1, '5': 2}\n"
          ]
        }
      ]
    },
    {
      "cell_type": "markdown",
      "source": [
        "# <font color=\"Crimson\"> Creamos nuestro grafo dirigido con múltiples aristas </font>"
      ],
      "metadata": {
        "id": "MIJX9hdrOtYF"
      }
    },
    {
      "cell_type": "code",
      "source": [
        "G_ma = nx.Graph()       # Crea un grafo vacio"
      ],
      "metadata": {
        "id": "9EpPTSHWOneP"
      },
      "execution_count": 540,
      "outputs": []
    },
    {
      "cell_type": "markdown",
      "source": [
        "### <font color=\"DarkOrange\"> Creamos nuestros nodos (A, B, C y D) y los unimos formando nuestra red</font>"
      ],
      "metadata": {
        "id": "11FyCAD2T0Xy"
      }
    },
    {
      "cell_type": "code",
      "source": [
        "G_ma.add_edge(\"A\", \"B\")   # Genera un arco que une A y B\n",
        "G_ma.add_edge(\"A\", \"C\")   # Genera un arco que une A y C\n",
        "G_ma.add_edge(\"B\", \"C\")   # Genera un arco que une B y C\n",
        "G_ma.add_edge(\"B\", \"D\")   # Genera un arco que une B y D\n",
        "G_ma.add_edge(\"C\", \"D\")   # Genera un arco que une C y D"
      ],
      "metadata": {
        "id": "4kq-lcYzHeno"
      },
      "execution_count": 541,
      "outputs": []
    },
    {
      "cell_type": "markdown",
      "source": [
        "### <font color=\"DarkOrange\"> Obtenemos el tipo de gráfico que es G</font>"
      ],
      "metadata": {
        "id": "ofy9AWf-5O2K"
      }
    },
    {
      "cell_type": "code",
      "source": [
        "G_ma   # Nos regresa el tipo de gráfico"
      ],
      "metadata": {
        "colab": {
          "base_uri": "https://localhost:8080/"
        },
        "id": "Qgih18hod0tM",
        "outputId": "c012033a-10a2-458d-dc77-278181edd6e8"
      },
      "execution_count": 542,
      "outputs": [
        {
          "output_type": "execute_result",
          "data": {
            "text/plain": [
              "<networkx.classes.graph.Graph at 0x7c505d193e60>"
            ]
          },
          "metadata": {},
          "execution_count": 542
        }
      ]
    },
    {
      "cell_type": "markdown",
      "source": [
        "### <font color=\"DarkOrange\"> Imprimimos nuestra gráfica con nuestros nodos y sus respectivos arcos</font>"
      ],
      "metadata": {
        "id": "xcE1MU_FSVOb"
      }
    },
    {
      "cell_type": "code",
      "source": [
        "nx.draw_networkx(G_ma, with_labels=True,                                   # with_labes hace que se vean los nombres de los nodos\n",
        "                 node_color=\"pink\")                                      # Le da el color deseado a nuestros nodos\n",
        "plt.title(\"Grafo dirigido con multiples aristas entre nodos\")       # Sirve para colocarle el nombre a la gráfica\n",
        "plt.show()                                                                 # Muestra el grafo"
      ],
      "metadata": {
        "colab": {
          "base_uri": "https://localhost:8080/",
          "height": 428
        },
        "id": "JX9BWw7Ud32D",
        "outputId": "c02577c1-0597-4811-bee3-606280eae111"
      },
      "execution_count": 543,
      "outputs": [
        {
          "output_type": "display_data",
          "data": {
            "text/plain": [
              "<Figure size 640x480 with 1 Axes>"
            ],
            "image/png": "[encoded data removed]"
          },
          "metadata": {}
        }
      ]
    },
    {
      "cell_type": "markdown",
      "source": [
        "### <font color=\"DarkOrange\"> Obtenemos todos los nodos de nuestra red</font>"
      ],
      "metadata": {
        "id": "JHyf7IwEFDT9"
      }
    },
    {
      "cell_type": "code",
      "source": [
        "nx.nodes(G)   # Nos regresa los nodos de la red\n",
        "\n",
        "print(\"Nodos:\", nx.nodes(G))   # Imprimimos los ndoos de la red"
      ],
      "metadata": {
        "colab": {
          "base_uri": "https://localhost:8080/"
        },
        "id": "LRqVBmKyeFi-",
        "outputId": "e5a8de43-d5c0-45a6-8565-6c25c6c5b38a"
      },
      "execution_count": 544,
      "outputs": [
        {
          "output_type": "stream",
          "name": "stdout",
          "text": [
            "Nodos: ['X', 'Y', 'Z']\n"
          ]
        }
      ]
    },
    {
      "cell_type": "markdown",
      "source": [
        "### <font color=\"DarkOrange\"> Obtenemos todos los arcos con sus respectivos nodos de nuestra red</font>"
      ],
      "metadata": {
        "id": "u5t-vXe9XovQ"
      }
    },
    {
      "cell_type": "code",
      "source": [
        "nx.edges(G)   # Nos regresa los arcos entre cada nodo de la red\n",
        "\n",
        "print(\"Arcos:\", nx.edges(G))   # Imprimios los arcos entre cada nod de la red"
      ],
      "metadata": {
        "colab": {
          "base_uri": "https://localhost:8080/"
        },
        "id": "8ETk8qggVyi1",
        "outputId": "d860c840-7b8d-4347-f3b9-583178d1d5ba"
      },
      "execution_count": 545,
      "outputs": [
        {
          "output_type": "stream",
          "name": "stdout",
          "text": [
            "Arcos: [('X', 'Y'), ('X', 'Z'), ('Y', 'Z')]\n"
          ]
        }
      ]
    },
    {
      "cell_type": "markdown",
      "source": [
        "### <font color=\"DarkOrange\"> Obtenemos el número total de nodos</font>"
      ],
      "metadata": {
        "id": "hlrpchWuTATc"
      }
    },
    {
      "cell_type": "code",
      "source": [
        "nx.number_of_nodes(G)   # Nos regresa el número de nodos\n",
        "\n",
        "print(\"Número de nodos:\", nx.number_of_nodes(G))    # Imprime el número total de nodos"
      ],
      "metadata": {
        "colab": {
          "base_uri": "https://localhost:8080/"
        },
        "id": "VfDwSM5ueQKj",
        "outputId": "7e1e8b68-e66f-4fa6-ff11-7628928b4913"
      },
      "execution_count": 546,
      "outputs": [
        {
          "output_type": "stream",
          "name": "stdout",
          "text": [
            "Número de nodos: 3\n"
          ]
        }
      ]
    },
    {
      "cell_type": "markdown",
      "source": [
        "### <font color=\"DarkOrange\"> Obtenemos el número total de arcos</font>"
      ],
      "metadata": {
        "id": "St11dgjP37P5"
      }
    },
    {
      "cell_type": "code",
      "source": [
        "nx.number_of_edges(G)    # Nos regresa el número de arcos\n",
        "\n",
        "print(\"Número de arcos:\", nx.number_of_edges(G))    # Imprime el número total de arcos"
      ],
      "metadata": {
        "colab": {
          "base_uri": "https://localhost:8080/"
        },
        "id": "L3MrCF4EYq3C",
        "outputId": "88b207d1-4393-4b12-e10b-13277afc7d09"
      },
      "execution_count": 547,
      "outputs": [
        {
          "output_type": "stream",
          "name": "stdout",
          "text": [
            "Número de arcos: 3\n"
          ]
        }
      ]
    },
    {
      "cell_type": "markdown",
      "source": [
        "### <font color=\"DarkOrange\"> Obtenemos el número de conexiones por nodo </font>\n"
      ],
      "metadata": {
        "id": "zz6V7zeW-S5y"
      }
    },
    {
      "cell_type": "code",
      "source": [
        "dict(G.degree)\n",
        "\n",
        "print(\"Numero de conexiones por nodo:\", dict(G.degree))"
      ],
      "metadata": {
        "colab": {
          "base_uri": "https://localhost:8080/"
        },
        "id": "g2Q0CQ-N-XsS",
        "outputId": "ac73a78d-e873-4734-ed43-a2b8e64ba5db"
      },
      "execution_count": 548,
      "outputs": [
        {
          "output_type": "stream",
          "name": "stdout",
          "text": [
            "Numero de conexiones por nodo: {'X': 2, 'Y': 2, 'Z': 2}\n"
          ]
        }
      ]
    },
    {
      "cell_type": "markdown",
      "source": [
        "# <font color=\"Pink\"> Comandos para añadir atributos (nodos y aristas) </font>\n"
      ],
      "metadata": {
        "id": "cn3MW8YCN6D-"
      }
    },
    {
      "cell_type": "code",
      "source": [
        "G_at = nx.Graph()     # Crea un grafo vacio\n",
        "\n",
        "G_at.add_node(1)              # Crea un nodo individual\n",
        "G_at.add_nodes_from([1,3])    # Crea varios nodos a la vez\n",
        "G_at.add_nodes_from([\n",
        "    (19, {\"color\": \"orange\", \"size\": 5}),    # Crea nodos con atributos personalizados\n",
        "    (21, {\"color\": \"gray\", \"size\": 9})\n",
        "])"
      ],
      "metadata": {
        "id": "Aw6v2E9sOWLY"
      },
      "execution_count": 549,
      "outputs": []
    },
    {
      "cell_type": "code",
      "source": [
        "print(\"Nodos:\", list(G_at.nodes))   # Nos imprime nuestros nodos\n",
        "print(\"Nodos con atributos:\", G_at.nodes.data())   # Nos imprime nuestros nodos con atributos"
      ],
      "metadata": {
        "colab": {
          "base_uri": "https://localhost:8080/"
        },
        "id": "FzBnFkISQEzU",
        "outputId": "262d0dbe-3495-40df-80e0-b529165f6b0c"
      },
      "execution_count": 553,
      "outputs": [
        {
          "output_type": "stream",
          "name": "stdout",
          "text": [
            "Nodos: [1, 3, 19, 21]\n",
            "Nodos con atributos: [(1, {}), (3, {}), (19, {'color': 'orange', 'size': 5}), (21, {'color': 'gray', 'size': 9})]\n"
          ]
        }
      ]
    },
    {
      "cell_type": "markdown",
      "source": [
        "Para las aristas"
      ],
      "metadata": {
        "id": "koJZsL-rQ_Ym"
      }
    },
    {
      "cell_type": "code",
      "source": [
        "G_at.add_edge(1,2)         # Crea una arco simple entre a A y B\n",
        "G_at.add_edges_from([(1, 3), (2, 4), (3, 5)])   # Crea varias aristas a la vez"
      ],
      "metadata": {
        "id": "l1e7qwbZRDXU"
      },
      "execution_count": 555,
      "outputs": []
    },
    {
      "cell_type": "markdown",
      "source": [
        "Imprimimos el gráfico"
      ],
      "metadata": {
        "id": "s8_ynQd7RrRv"
      }
    },
    {
      "cell_type": "code",
      "source": [
        "nx.draw(G_at, with_labels=True)\n",
        "plt.show()"
      ],
      "metadata": {
        "colab": {
          "base_uri": "https://localhost:8080/",
          "height": 516
        },
        "id": "P7yR9RvtRxk1",
        "outputId": "af58e3a9-2c14-495f-ac54-bf920fe4b64e"
      },
      "execution_count": 556,
      "outputs": [
        {
          "output_type": "display_data",
          "data": {
            "text/plain": [
              "<Figure size 640x480 with 1 Axes>"
            ],
            "image/png": "[encoded data removed]"
          },
          "metadata": {}
        }
      ]
    }
  ]
}