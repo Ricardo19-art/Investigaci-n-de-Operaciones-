{
  "nbformat": 4,
  "nbformat_minor": 0,
  "metadata": {
    "colab": {
      "provenance": [],
      "authorship_tag": "ABX9TyN9kaexBWHKSW7308oVHwDW",
      "include_colab_link": true
    },
    "kernelspec": {
      "name": "python3",
      "display_name": "Python 3"
    },
    "language_info": {
      "name": "python"
    }
  },
  "cells": [
    {
      "cell_type": "markdown",
      "metadata": {
        "id": "view-in-github",
        "colab_type": "text"
      },
      "source": [
        "<a href=\"https://colab.research.google.com/github/Ricardo19-art/Investigaci-n-de-Operaciones-/blob/main/Untitled0.ipynb\" target=\"_parent\"><img src=\"https://colab.research.google.com/assets/colab-badge.svg\" alt=\"Open In Colab\"/></a>"
      ]
    },
    {
      "cell_type": "markdown",
      "source": [
        "# <font color=\"Orange\"> Ecuaciones de Chapman-Kolmogóv </font>"
      ],
      "metadata": {
        "id": "IewbssDeK25Y"
      }
    },
    {
      "cell_type": "markdown",
      "source": [
        "### <font color=\"Red\"> Ejemplo: Tablero de 4 colores </font>"
      ],
      "metadata": {
        "id": "OV7DmGltLT_u"
      }
    },
    {
      "cell_type": "markdown",
      "source": [
        "Estableciendo nuestras probabilidades:\n",
        "\n",
        "\n",
        "*   $x_n$: probabilidad de estar en el sector **Naranja** tras n lanzamientos\n",
        "*   $y_n$: probabilidad de estar en el sector **Azul** tras n lanzamientos\n",
        "*   $z_n$: probabilidad de estar en el sector **Verde** tras n lanzamientos\n",
        "*   $t_n$: probabilidad de estar en el sector **Rojo** tras n lanzamientos"
      ],
      "metadata": {
        "id": "-ql66fi6Lwom"
      }
    },
    {
      "cell_type": "code",
      "source": [
        "import matplotlib.pyplot as plt\n",
        "import numpy as np\n",
        "\n",
        "plt.pie([1,1,1,1], labels = [\"Naranja\", \"Azul\", \"Verde\", \"Rojo\"], colors = [\"orange\", \"blue\", \"green\", \"red\"], startangle = 90)\n",
        "plt.title(\"Tablero de Colores\")\n",
        "plt.show()"
      ],
      "metadata": {
        "colab": {
          "base_uri": "https://localhost:8080/",
          "height": 428
        },
        "id": "eg5rrib1M2Bb",
        "outputId": "28c385a5-38a7-48f5-ef4c-13a6a1e57f27"
      },
      "execution_count": 89,
      "outputs": [
        {
          "output_type": "display_data",
          "data": {
            "text/plain": [
              "<Figure size 640x480 with 1 Axes>"
            ],
            "image/png": "[encoded data removed]"
          },
          "metadata": {}
        }
      ]
    },
    {
      "cell_type": "markdown",
      "source": [
        "### <font color=\"pink\"> Transiciones del tablero:  </font>\n",
        "\n",
        "\n",
        "1.   Del sector Naranja a los 4 sectores, incluyendose asi mismo\n",
        "\n",
        "*   $P(Naranja \\to Naranja) = \\frac{1}{4}$\n",
        "*   $P(Naranja \\to Azul) = 0$\n",
        "*   $P(Naranja \\to Verde) = \\frac{1}{4}$\n",
        "*   $P(Naranja \\to Rojo) = \\frac{2}{4}$\n",
        "\n",
        "\n",
        "2.   Del sector Azul a los 4 sectores, incluyendose asi mismo\n",
        "\n",
        "*   $P(Azul \\to Naranja) = \\frac{2}{4}$\n",
        "*   $P(Azul \\to Azul) = \\frac{1}{4}$\n",
        "*   $P(Azul \\to Verde) = 0$\n",
        "*   $P(Azul \\to Rojo) = \\frac{1}{4}$\n",
        "\n",
        "\n",
        "3.   Del sector Verde a los 4 sectores, incluyendose asi mismo\n",
        "\n",
        "*   $P(Verde \\to Naranja) = \\frac{1}{4}$\n",
        "*   $P(Verde \\to Azul) = \\frac{2}{4}$\n",
        "*   $P(Verde \\to Verde) = \\frac{1}{4}$\n",
        "*   $P(Verde \\to Rojo) = 0$\n",
        "\n",
        "\n",
        "4.   Del sector Rojo a los 4 sectores, incluyendose asi mismo\n",
        "\n",
        "*   $P(Rojo \\to Naranja) = 0$\n",
        "*   $P(Rojo \\to Azul) = \\frac{1}{4}$\n",
        "*   $P(Rojo \\to Verde) = \\frac{2}{4}$\n",
        "*   $P(Rojo \\to Rojo) = \\frac{1}{4}$"
      ],
      "metadata": {
        "id": "-dukC4nfOYCW"
      }
    },
    {
      "cell_type": "markdown",
      "source": [
        "### <font color=\"green\"> Con las probabilidades anteriores se construye nuestra matriz de transición A </font>"
      ],
      "metadata": {
        "id": "5zuIF2mFRUS_"
      }
    },
    {
      "cell_type": "markdown",
      "source": [
        "Primero debemos construir nuestro sistema de ecuaciones:\n",
        "\n",
        "$x_n = \\frac{1}{4}x_{n-1} + 0y_{n-1} + \\frac{1}{4}z_{n-1} + \\frac{2}{4}t_{n-1}$\n",
        "\n",
        "$y_n = \\frac{2}{4}x_{n-1} + \\frac{1}{4}y_{n-1} + 0z_{n-1} + \\frac{1}{4}t_{n-1}$\n",
        "\n",
        "$z_n = \\frac{1}{4}x_{n-1} + \\frac{2}{4}y_{n-1} + \\frac{1}{4}z_{n-1} + 0t_{n-1}$\n",
        "\n",
        "$t_n = 0x_{n-1} + \\frac{1}{4}y_{n-1} + \\frac{2}{4}z_{n-1} + \\frac{1}{4}t_{n-1}$"
      ],
      "metadata": {
        "id": "H4z0XF3PSw2y"
      }
    },
    {
      "cell_type": "markdown",
      "source": [
        "### <font color=\"yellow\"> Ahora reescribimos nuestro sistema de ecuaciones en su forma matricial </font>"
      ],
      "metadata": {
        "id": "O0DR_YQbUfhy"
      }
    },
    {
      "cell_type": "markdown",
      "source": [
        "\\[\n",
        "\\begin{pmatrix}\n",
        "x_n \\\\[4pt]\n",
        "y_n \\\\[4pt]\n",
        "z_n \\\\[4pt]\n",
        "t_n\n",
        "\\end{pmatrix}\n",
        "=\n",
        "\\underbrace{\n",
        "\\begin{pmatrix}\n",
        "\\tfrac{1}{4} & 0 & \\tfrac{1}{4} & \\tfrac{2}{4} \\\\[4pt]\n",
        "\\tfrac{2}{4} & \\tfrac{1}{4} & 0 & \\tfrac{1}{4} \\\\[4pt]\n",
        "\\tfrac{1}{4} & \\tfrac{2}{4} & \\tfrac{1}{4} & 0 \\\\[4pt]\n",
        "0 & \\tfrac{1}{4} & \\tfrac{2}{4} & \\tfrac{1}{4}\n",
        "\\end{pmatrix}\n",
        "}_{A}\n",
        "\\begin{pmatrix}\n",
        "x_{n-1} \\\\[4pt]\n",
        "y_{n-1} \\\\[4pt]\n",
        "z_{n-1} \\\\[4pt]\n",
        "t_{n-1}\n",
        "\\end{pmatrix}\n",
        "\\]"
      ],
      "metadata": {
        "id": "Y0-b6ZdxVV2Z"
      }
    },
    {
      "cell_type": "markdown",
      "source": [
        "### <font color=\"blue\"> Elaboramos nuestro codigo para resolver nuestro sistema de ecuaciones y asi poder determinar la probabilidad de cada sector despues de n lanzamientos </font>"
      ],
      "metadata": {
        "id": "LCR--cQvWM-S"
      }
    },
    {
      "cell_type": "code",
      "execution_count": 90,
      "metadata": {
        "id": "wrcape3hh0uj"
      },
      "outputs": [],
      "source": [
        "\n",
        "# Establecemos nuestros valores iniciales\n",
        "x0=0.3\n",
        "y0=0.1\n",
        "z0=0.4\n",
        "t0=0.2\n",
        "\n",
        "# Numero de lanzamientos\n",
        "n=50\n",
        "\n",
        "# Creamos las listas vacias de cada variable (x, y, z, t)\n",
        "xf = []\n",
        "yf = []\n",
        "zf = []\n",
        "tf = []\n",
        "\n",
        "# Establecemos un bucle hasta n iteraciones que resuelva nuestr sistema de ecuaciones recursivamente\n",
        "for i in range(n):\n",
        "  x = (1/4)*x0 + (0)*y0 + (1/4)*z0 + (2/4)*t0\n",
        "  y = (2/4)*x0 + (1/4)*y0 + (0)*z0 + (1/4)*t0\n",
        "  z = (1/4)*x0 + (2/4)*y0 + (1/4)*z0 + (0)*t0\n",
        "  t = (0)*x0 + (1/4)*y0 + (2/4)*z0 + (1/4)*t0\n",
        "\n",
        "# Llenamos nuestra listas con todos los valores de nuestras iteraciones\n",
        "  xf.append(x)\n",
        "  yf.append(y)\n",
        "  zf.append(z)\n",
        "  tf.append(t)\n",
        "\n",
        "# Actualizamos los valores en cada iteracion con sus anteriores valores\n",
        "  x0, y0, z0, t0 = x, y, z, t"
      ]
    },
    {
      "cell_type": "code",
      "source": [
        "print(xf)"
      ],
      "metadata": {
        "colab": {
          "base_uri": "https://localhost:8080/"
        },
        "id": "CEnCjSCZG8Ns",
        "outputId": "f5e9cefd-965e-4103-9eb4-5c555102d03f"
      },
      "execution_count": 91,
      "outputs": [
        {
          "output_type": "stream",
          "name": "stdout",
          "text": [
            "[0.275, 0.2625, 0.24375000000000002, 0.246875, 0.2515625, 0.25078125, 0.24960937500000002, 0.2498046875, 0.25009765625, 0.250048828125, 0.24997558593750002, 0.24998779296875, 0.250006103515625, 0.2500030517578125, 0.24999847412109377, 0.24999923706054689, 0.2500003814697266, 0.2500001907348633, 0.24999990463256838, 0.2499999523162842, 0.25000002384185793, 0.25000001192092897, 0.24999999403953554, 0.24999999701976777, 0.25000000149011614, 0.25000000074505807, 0.249999999627471, 0.2499999998137355, 0.2500000000931323, 0.25000000004656614, 0.24999999997671696, 0.24999999998835848, 0.2500000000058208, 0.2500000000029104, 0.24999999999854483, 0.24999999999927242, 0.2500000000003638, 0.2500000000001819, 0.24999999999990907, 0.24999999999995454, 0.25000000000002276, 0.2500000000000114, 0.24999999999999434, 0.24999999999999717, 0.25000000000000144, 0.2500000000000007, 0.24999999999999967, 0.24999999999999983, 0.2500000000000001, 0.25000000000000006]\n"
          ]
        }
      ]
    },
    {
      "cell_type": "code",
      "source": [
        "print(yf)"
      ],
      "metadata": {
        "colab": {
          "base_uri": "https://localhost:8080/"
        },
        "id": "KABe0f5lIP3o",
        "outputId": "37339320-b988-424c-9d4b-01d1d21b2207"
      },
      "execution_count": 92,
      "outputs": [
        {
          "output_type": "stream",
          "name": "stdout",
          "text": [
            "[0.22499999999999998, 0.2625, 0.25625000000000003, 0.24687500000000004, 0.24843750000000003, 0.25078125000000007, 0.25039062500000003, 0.24980468750000004, 0.24990234375000003, 0.25004882812500007, 0.25002441406250003, 0.24998779296875004, 0.24999389648437503, 0.25000305175781257, 0.2500015258789063, 0.2499992370605469, 0.24999961853027347, 0.25000019073486335, 0.2500000953674317, 0.24999995231628422, 0.24999997615814212, 0.250000011920929, 0.2500000059604645, 0.2499999970197678, 0.24999999850988391, 0.2500000007450581, 0.25000000037252906, 0.24999999981373552, 0.24999999990686778, 0.2500000000465662, 0.2500000000232831, 0.2499999999883585, 0.24999999999417927, 0.25000000000291045, 0.2500000000014552, 0.24999999999927244, 0.24999999999963624, 0.25000000000018197, 0.250000000000091, 0.24999999999995456, 0.2499999999999773, 0.25000000000001144, 0.2500000000000057, 0.2499999999999972, 0.2499999999999986, 0.2500000000000008, 0.2500000000000004, 0.24999999999999986, 0.24999999999999994, 0.2500000000000001]\n"
          ]
        }
      ]
    },
    {
      "cell_type": "code",
      "source": [
        "print(zf)"
      ],
      "metadata": {
        "colab": {
          "base_uri": "https://localhost:8080/"
        },
        "id": "yBupC-ZlIQFs",
        "outputId": "39302adb-fcb7-4fee-ba07-d9f7c9b84d42"
      },
      "execution_count": 93,
      "outputs": [
        {
          "output_type": "stream",
          "name": "stdout",
          "text": [
            "[0.225, 0.2375, 0.25625000000000003, 0.25312500000000004, 0.24843750000000003, 0.24921875000000004, 0.25039062500000003, 0.25019531250000004, 0.24990234375000003, 0.24995117187500004, 0.25002441406250003, 0.25001220703125004, 0.24999389648437503, 0.24999694824218754, 0.2500015258789063, 0.25000076293945317, 0.24999961853027347, 0.24999980926513676, 0.2500000953674317, 0.25000004768371586, 0.24999997615814212, 0.2499999880790711, 0.2500000059604645, 0.2500000029802323, 0.24999999850988391, 0.24999999925494198, 0.25000000037252906, 0.25000000018626456, 0.24999999990686778, 0.24999999995343392, 0.2500000000232831, 0.2500000000116416, 0.24999999999417927, 0.24999999999708966, 0.2500000000014552, 0.25000000000072764, 0.24999999999963624, 0.24999999999981815, 0.250000000000091, 0.2500000000000455, 0.2499999999999773, 0.24999999999998868, 0.2500000000000057, 0.2500000000000029, 0.2499999999999986, 0.24999999999999933, 0.2500000000000004, 0.2500000000000002, 0.24999999999999994, 0.25]\n"
          ]
        }
      ]
    },
    {
      "cell_type": "code",
      "source": [
        "print(tf)"
      ],
      "metadata": {
        "colab": {
          "base_uri": "https://localhost:8080/"
        },
        "id": "Rbywz_yRIQSO",
        "outputId": "7d43397b-173b-4e84-f056-f6aa26f1bbc6"
      },
      "execution_count": 94,
      "outputs": [
        {
          "output_type": "stream",
          "name": "stdout",
          "text": [
            "[0.275, 0.23750000000000002, 0.24375000000000002, 0.25312500000000004, 0.2515625, 0.24921875000000002, 0.24960937500000005, 0.25019531250000004, 0.25009765625, 0.24995117187500002, 0.24997558593750005, 0.25001220703125004, 0.250006103515625, 0.24999694824218752, 0.2499984741210938, 0.25000076293945317, 0.2500003814697266, 0.24999980926513674, 0.2499999046325684, 0.25000004768371586, 0.25000002384185793, 0.24999998807907106, 0.24999999403953557, 0.2500000029802323, 0.25000000149011614, 0.24999999925494196, 0.24999999962747102, 0.25000000018626456, 0.2500000000931323, 0.2499999999534339, 0.24999999997671699, 0.2500000000116416, 0.2500000000058208, 0.24999999999708963, 0.24999999999854486, 0.25000000000072764, 0.2500000000003638, 0.24999999999981812, 0.2499999999999091, 0.2500000000000455, 0.25000000000002276, 0.24999999999998865, 0.24999999999999437, 0.2500000000000029, 0.25000000000000144, 0.2499999999999993, 0.2499999999999997, 0.2500000000000002, 0.2500000000000001, 0.24999999999999997]\n"
          ]
        }
      ]
    },
    {
      "cell_type": "markdown",
      "source": [
        "### <font color=\"purple\"> Grafica de nuestas probabilidades en n iterciones </font>"
      ],
      "metadata": {
        "id": "p2hku2nuXvzM"
      }
    },
    {
      "cell_type": "code",
      "source": [
        "plt.plot(xf, label='x_n')\n",
        "plt.plot(yf, label='y_n')\n",
        "plt.plot(zf, label='z_n')\n",
        "plt.plot(tf, label='t_n')\n",
        "\n",
        "plt.xlabel('Iteración')\n",
        "plt.ylabel('Probabilidad')\n",
        "plt.title('Probabilidades por iteración')\n",
        "plt.legend()\n",
        "plt.show()"
      ],
      "metadata": {
        "colab": {
          "base_uri": "https://localhost:8080/",
          "height": 472
        },
        "id": "dIAeo9csJunZ",
        "outputId": "3c78f565-35df-40b8-a948-fd406672234a"
      },
      "execution_count": 95,
      "outputs": [
        {
          "output_type": "display_data",
          "data": {
            "text/plain": [
              "<Figure size 640x480 with 1 Axes>"
            ],
            "image/png": "[encoded data removed]"
          },
          "metadata": {}
        }
      ]
    },
    {
      "cell_type": "markdown",
      "source": [
        "## <font color=\"grey\"> Conclusiones </font>"
      ],
      "metadata": {
        "id": "QoWMkkuwZoyt"
      }
    },
    {
      "cell_type": "markdown",
      "source": [
        "Por lo tanto llegamos a la conclusión que tras n iteraciones(lanzamientos) las probabilidades todos los sectores se estabiliza y tiende a un mismo valor esto por la ley de los grande numeros que a mayor numero de iteaciones todos los valores convergen a uno mismo.\n",
        "\n",
        "Esto quiere decir que a largo plazo todos los sectores son igual de probables, por lo que se puede decir que nuestra cadena de Markov alcanza una distribución estacionaria uniforme, donde no importa en que color se inicie ya que siempre terminara repartiendo la probabilidad por igual entre los 4 sectores.\n",
        "\n",
        "Esto es mayormente apreciable en la matriz de transicion en donde sus filas y columnas suman 1, lo que garantiza una distribucion estacionaria uniforme."
      ],
      "metadata": {
        "id": "QB51CbFfYnNm"
      }
    }
  ]
}