{
  "nbformat": 4,
  "nbformat_minor": 0,
  "metadata": {
    "colab": {
      "provenance": [],
      "authorship_tag": "ABX9TyM/APgyxnoHf1lrZGNfwahO",
      "include_colab_link": true
    },
    "kernelspec": {
      "name": "python3",
      "display_name": "Python 3"
    },
    "language_info": {
      "name": "python"
    }
  },
  "cells": [
    {
      "cell_type": "markdown",
      "metadata": {
        "id": "view-in-github",
        "colab_type": "text"
      },
      "source": [
        "<a href=\"https://colab.research.google.com/github/Ricardo19-art/Investigaci-n-de-Operaciones-/blob/main/EL_PERT_Y_CPM.ipynb\" target=\"_parent\"><img src=\"https://colab.research.google.com/assets/colab-badge.svg\" alt=\"Open In Colab\"/></a>"
      ]
    },
    {
      "cell_type": "markdown",
      "source": [
        "# <font color=\"RoyalBlue\"> Modelo de redes - Ruta crítica </font>"
      ],
      "metadata": {
        "id": "IhVs_NOStfi6"
      }
    },
    {
      "cell_type": "markdown",
      "source": [
        "### <font color=\"Green\"> Importamos nuestras librerias </font>"
      ],
      "metadata": {
        "id": "WEnVjzD7iVhs"
      }
    },
    {
      "cell_type": "markdown",
      "source": [
        "##### <font color=\"pink\"> Nos da acceso a todas las funciones de las redes ya antes trabajadas </font>"
      ],
      "metadata": {
        "id": "uh-KL25KjESG"
      }
    },
    {
      "cell_type": "code",
      "execution_count": 1,
      "metadata": {
        "id": "-Prci2JEeu9T"
      },
      "outputs": [],
      "source": [
        "import networkx as nx\n",
        "import pandas as pd"
      ]
    },
    {
      "cell_type": "markdown",
      "source": [
        "##### <font color=\"pink\"> Nos da acceso a todas las funciones esenciales para realizar graficos (titulos, etiquetas, colores, estilos, leyendas, escalas, etc) </font>"
      ],
      "metadata": {
        "id": "nsZtXuW9jlNb"
      }
    },
    {
      "cell_type": "code",
      "source": [
        "import matplotlib.pyplot as plt"
      ],
      "metadata": {
        "id": "FXpjJL95jA2j"
      },
      "execution_count": 2,
      "outputs": []
    },
    {
      "cell_type": "markdown",
      "source": [
        "##### <font color=\"pink\"> Nos da acceso a todas las funciones para trabajar con datos en filas y columnas, conbinar y agrupar informacion, ademas nos ayuda a generar tablas de datos </font>"
      ],
      "metadata": {
        "id": "F4hpDOBXjk9s"
      }
    },
    {
      "cell_type": "code",
      "source": [
        "import pandas as pd"
      ],
      "metadata": {
        "id": "o2bcvYDOkIvk"
      },
      "execution_count": 3,
      "outputs": []
    },
    {
      "cell_type": "markdown",
      "source": [
        "### <font color=\"yellow\"> Planteamiento del proyecto, con sus respectivas Nodos (actividades) y arcos (duracion) de cada una </font>"
      ],
      "metadata": {
        "id": "KkV-n7zIlmHB"
      }
    },
    {
      "cell_type": "markdown",
      "source": [
        "##### <font color=\"orange\"> Nuestro Modelo de Red tomara como ejemplo practico la planeacion y construcción de una vivienda </font>"
      ],
      "metadata": {
        "id": "3Tox0FEZmpiW"
      }
    },
    {
      "cell_type": "markdown",
      "source": [
        "#### <font color=\"red\"> Definiciones clave: </font>"
      ],
      "metadata": {
        "id": "Ot4UiP2RpJa3"
      }
    },
    {
      "cell_type": "markdown",
      "source": [
        "##### <font color=\"black\"> PB = Planta Baja\n",
        "PA = Planta Alta </font>"
      ],
      "metadata": {
        "id": "dkO9UC70prNX"
      }
    },
    {
      "cell_type": "code",
      "source": [
        "#  Nodos de las diferentes actividades y su duraciones en semanas\n",
        "dur = {\n",
        "    \"A\": 2,  # Permisos y licencias\n",
        "    \"B\": 3,  # Diseño arquitectónico\n",
        "    \"C\": 2,  # Diseño estructural\n",
        "    \"D\": 2,  # Topografía y estudio de suelo\n",
        "    \"E\": 1,  # Trazo y nivelación\n",
        "    \"F\": 2,  # Excavación\n",
        "    \"G\": 3,  # Cimentación (zapatas/dados)\n",
        "    \"H\": 2,  # Losa de cimentación\n",
        "    \"I\": 3,  # Muros planta baja\n",
        "    \"J\": 2,  # Columnas y vigas PB\n",
        "    \"K\": 2,  # Losa entrepiso\n",
        "    \"L\": 3,  # Muros planta alta\n",
        "    \"M\": 2,  # Cubierta/techo\n",
        "    \"N\": 3,  # Instal. hidrosanitarias PB\n",
        "    \"O\": 2,  # Instal. eléctrica PB\n",
        "    \"P\": 3,  # Aplanados exteriores\n",
        "    \"Q\": 3,  # Aplanados interiores PB\n",
        "    \"R\": 2,  # Carpintería/cancel. (puertas/ventanas)\n",
        "    \"S\": 2,  # Pisos PB\n",
        "    \"T\": 3,  # Instal. hidrosanitarias PA\n",
        "    \"U\": 2,  # Instal. eléctrica PA\n",
        "    \"V\": 3,  # Aplanados interiores PA\n",
        "    \"W\": 2,  # Pisos PA\n",
        "    \"X\": 2,  # Pintura exterior\n",
        "    \"Y\": 2,  # Pintura interior\n",
        "    \"Z\": 1,  # Accesorios exteriores\n",
        "    \"AA\": 1, # Accesorios interiores\n",
        "    \"AB\": 1, # Limpieza y entrega\n",
        "}"
      ],
      "metadata": {
        "id": "HwdxIWQWo4tf"
      },
      "execution_count": 4,
      "outputs": []
    },
    {
      "cell_type": "markdown",
      "source": [
        "##### <font color=\"orange\"> Definimos los predecesores inmediatos de cada una de nuestras actividades que deben completarse antes de iniciar la siguiente </font>"
      ],
      "metadata": {
        "id": "TLCcjiKAoUYI"
      }
    },
    {
      "cell_type": "code",
      "source": [
        "# Predecesores inmediatos\n",
        "preds = {\n",
        "    \"A\": [],\n",
        "    \"B\": [\"A\"],\n",
        "    \"C\": [\"B\"],\n",
        "    \"D\": [\"A\"],\n",
        "    \"E\": [\"D\"],\n",
        "    \"F\": [\"C\",\"E\"],\n",
        "    \"G\": [\"F\"],\n",
        "    \"H\": [\"G\"],\n",
        "    \"I\": [\"H\"],\n",
        "    \"J\": [\"I\"],\n",
        "    \"K\": [\"J\"],\n",
        "    \"L\": [\"K\"],\n",
        "    \"M\": [\"L\"],\n",
        "    \"N\": [\"I\"],       # instalaciones PB\n",
        "    \"O\": [\"I\"],       # instalaciones PB\n",
        "    \"P\": [\"M\"],       # aplanados exteriores tras cubierta\n",
        "    \"Q\": [\"N\",\"O\"],   # aplanados interiores PB\n",
        "    \"R\": [\"M\",\"P\",\"Q\"],  # ventanas/puertas tras exteriores e interiores\n",
        "    \"S\": [\"Q\"],       # pisos PB\n",
        "    \"T\": [\"L\"],       # instalaciones PA\n",
        "    \"U\": [\"L\"],       # instalaciones PA\n",
        "    \"V\": [\"T\",\"U\"],   # aplanados interiores PA\n",
        "    \"W\": [\"V\"],       # pisos PA\n",
        "    \"X\": [\"P\",\"R\"],   # pintura exterior tras aplanado ext + cancelería\n",
        "    \"Y\": [\"R\",\"Q\",\"V\"], # pintura interior tras cancelería + aplanados\n",
        "    \"Z\": [\"X\"],       # accesorios exteriores\n",
        "    \"AA\":[\"Y\",\"S\",\"W\"], # accesorios interiores al final de acabados\n",
        "    \"AB\":[\"Z\",\"AA\"],  # limpieza y entrega\n",
        "}"
      ],
      "metadata": {
        "id": "WXR04nBioR0V"
      },
      "execution_count": 5,
      "outputs": []
    },
    {
      "cell_type": "markdown",
      "source": [
        "##### <font color=\"orange\"> Aqui construimos la red de nuestro proyecto, en el cual cada noso representa una actividad con su respectiva duracion y cuyas aristas representan la relacion de precedencia entre cada una de ellas </font>"
      ],
      "metadata": {
        "id": "9QCu9RshqPRv"
      }
    },
    {
      "cell_type": "markdown",
      "source": [
        "###### <font color=\"red\"> Ademas de verificar que nuestro grafo sea aciclico, ya que en el CPM no pueden existir bucles </font>"
      ],
      "metadata": {
        "id": "lLORKbpPrVjJ"
      }
    },
    {
      "cell_type": "code",
      "source": [
        "# Construcción del DAG\n",
        "G = nx.DiGraph()\n",
        "for a in dur:\n",
        "    G.add_node(a, duration=dur[a])\n",
        "for a, ps in preds.items():\n",
        "    for p in ps:\n",
        "        G.add_edge(p, a)\n",
        "\n",
        "assert nx.is_directed_acyclic_graph(G), \"La red debe ser acíclica\"\n",
        "len(G), list(G.nodes())[:5], list(G.edges())[:5]"
      ],
      "metadata": {
        "colab": {
          "base_uri": "https://localhost:8080/"
        },
        "id": "12uH3FuKqNrI",
        "outputId": "0dda9701-5d75-4efc-8742-bfb83b17476f"
      },
      "execution_count": 6,
      "outputs": [
        {
          "output_type": "execute_result",
          "data": {
            "text/plain": [
              "(28,\n",
              " ['A', 'B', 'C', 'D', 'E'],\n",
              " [('A', 'B'), ('A', 'D'), ('B', 'C'), ('C', 'F'), ('D', 'E')])"
            ]
          },
          "metadata": {},
          "execution_count": 6
        }
      ]
    },
    {
      "cell_type": "markdown",
      "source": [
        "### <font color=\"Green\"> FORWARD PASS\n",
        "(Recorrido hacia adelante) </font>"
      ],
      "metadata": {
        "id": "olu6XWbZvyah"
      }
    },
    {
      "cell_type": "markdown",
      "source": [
        "##### <font color=\"orange\"> Calculamos los tiempos ES (Early Start) el cual depende completamente del EF (Early Finish) y sus predecesoras: </font>\n",
        "\n",
        "*   Recorremos nuestro grafo en orden topólogico\n",
        "*   Determinamos el tiempo más temprano en el que puede iniciar y terminar cada actividas\n",
        "*   Finalizamos con la obtencion de la duración total de proyecto\n",
        "\n",
        "\n",
        "\n"
      ],
      "metadata": {
        "id": "sgYUiC-Pt1-E"
      }
    },
    {
      "cell_type": "markdown",
      "source": [
        "#### <font color=\"red\"> Definiciones clave: </font>"
      ],
      "metadata": {
        "id": "xCOC9_HBvPX-"
      }
    },
    {
      "cell_type": "markdown",
      "source": [
        "##### <font color=\"black\"> ES = Estado de inicio\n",
        "EF = Estado final </font>"
      ],
      "metadata": {
        "id": "SLO6-HQovSq6"
      }
    },
    {
      "cell_type": "code",
      "source": [
        "topo = list(nx.topological_sort(G))\n",
        "ES, EF = {}, {}\n",
        "\n",
        "for v in topo:\n",
        "    if G.in_degree(v) == 0:\n",
        "        ES[v] = 0\n",
        "    else:\n",
        "        ES[v] = max(EF[u] for u in G.predecessors(v))\n",
        "    EF[v] = ES[v] + G.nodes[v][\"duration\"]\n",
        "\n",
        "project_duration = max(EF.values())\n",
        "sinks = [v for v in G.nodes() if G.out_degree(v) == 0]\n",
        "project_duration, sinks"
      ],
      "metadata": {
        "id": "okxt0hcupFA7",
        "colab": {
          "base_uri": "https://localhost:8080/"
        },
        "outputId": "081360fd-305b-42e4-8a51-d39a3f1b5c4a"
      },
      "execution_count": 7,
      "outputs": [
        {
          "output_type": "execute_result",
          "data": {
            "text/plain": [
              "(35, ['AB'])"
            ]
          },
          "metadata": {},
          "execution_count": 7
        }
      ]
    },
    {
      "cell_type": "markdown",
      "source": [
        "### <font color=\"Green\"> BACKWARD PASS\n",
        "(Recorrido hacia atrán) </font>"
      ],
      "metadata": {
        "id": "vLVyqKo-wLxc"
      }
    },
    {
      "cell_type": "markdown",
      "source": [
        "##### <font color=\"orange\"> Calculamos los tiempos tardios LF (Late Finish) y el LS (Late Start) con los cuales podemos determinar la holgura de cada actividad y asi identificar la ruta crítica, ademas que las actividades sin holgura determinan la duración total: </font>\n",
        "\n",
        "*   Partimos de la duracion total del proyecto y recorremos el grafo en orden inverso.\n",
        "*   Obtenemos el tiempo mas tardeio de cada actividad que pueda iniciar/terminar sin retrasar el proyecto.\n",
        "*   Calculamos las holguras (Slack) y la ruta crìtica.\n",
        "\n",
        "\n",
        "\n"
      ],
      "metadata": {
        "id": "YBFW4hEXwZNJ"
      }
    },
    {
      "cell_type": "markdown",
      "source": [
        "#### <font color=\"red\"> Definiciones clave: </font>"
      ],
      "metadata": {
        "id": "_uq3Px1HxuoJ"
      }
    },
    {
      "cell_type": "markdown",
      "source": [
        "##### <font color=\"black\"> LS = Inicio Tardio\n",
        "LF = Fin Tardio </font>"
      ],
      "metadata": {
        "id": "GL9h0roixyge"
      }
    },
    {
      "cell_type": "code",
      "source": [
        "LS, LF = {}, {}\n",
        "\n",
        "for v in sinks:\n",
        "    LF[v] = project_duration\n",
        "    LS[v] = LF[v] - G.nodes[v][\"duration\"]\n",
        "\n",
        "for v in reversed(topo):\n",
        "    if v in sinks:\n",
        "        continue\n",
        "    LF[v] = min(LS[w] for w in G.successors(v))\n",
        "    LS[v] = LF[v] - G.nodes[v][\"duration\"]\n",
        "\n",
        "slack = {v: LS[v] - ES[v] for v in G.nodes()}\n",
        "crit_nodes = [v for v in G.nodes() if slack[v] == 0]\n",
        "\n",
        "# Ruta crítica como camino más largo ponderado por duraciones de nodos\n",
        "H = nx.DiGraph()\n",
        "for u, v in G.edges():\n",
        "    H.add_edge(u, v, weight=G.nodes[v][\"duration\"])\n",
        "cp_nodes = nx.dag_longest_path(H, weight=\"weight\")\n",
        "\n",
        "project_duration, crit_nodes, cp_nodes"
      ],
      "metadata": {
        "id": "K0aYZeEzpwVY",
        "colab": {
          "base_uri": "https://localhost:8080/"
        },
        "outputId": "0c38a396-d5e8-423d-ab07-6f351e0d406b"
      },
      "execution_count": 8,
      "outputs": [
        {
          "output_type": "execute_result",
          "data": {
            "text/plain": [
              "(35,\n",
              " ['A',\n",
              "  'B',\n",
              "  'C',\n",
              "  'F',\n",
              "  'G',\n",
              "  'H',\n",
              "  'I',\n",
              "  'J',\n",
              "  'K',\n",
              "  'L',\n",
              "  'M',\n",
              "  'P',\n",
              "  'R',\n",
              "  'X',\n",
              "  'Y',\n",
              "  'Z',\n",
              "  'AA',\n",
              "  'AB'],\n",
              " ['A',\n",
              "  'B',\n",
              "  'C',\n",
              "  'F',\n",
              "  'G',\n",
              "  'H',\n",
              "  'I',\n",
              "  'J',\n",
              "  'K',\n",
              "  'L',\n",
              "  'M',\n",
              "  'P',\n",
              "  'R',\n",
              "  'X',\n",
              "  'Z',\n",
              "  'AB'])"
            ]
          },
          "metadata": {},
          "execution_count": 8
        }
      ]
    },
    {
      "cell_type": "markdown",
      "source": [
        "##### <font color=\"orange\"> Creamos un diccionario por cada actividad</font>\n",
        "\n",
        "\n",
        "\n",
        "\n"
      ],
      "metadata": {
        "id": "FtgFiXfByVAA"
      }
    },
    {
      "cell_type": "code",
      "source": [
        "rows = []\n",
        "for v in topo:\n",
        "    rows.append({\n",
        "        \"Act\": v,\n",
        "        \"Descripción\": {\n",
        "            \"A\":\"Permisos y licencias\",\"B\":\"Diseño arquitectónico\",\"C\":\"Diseño estructural\",\n",
        "            \"D\":\"Topografía/estudio de suelo\",\"E\":\"Trazo y nivelación\",\"F\":\"Excavación\",\n",
        "            \"G\":\"Cimentación\",\"H\":\"Losa de cimentación\",\"I\":\"Muros PB\",\"J\":\"Columnas/vigas PB\",\n",
        "            \"K\":\"Losa entrepiso\",\"L\":\"Muros PA\",\"M\":\"Cubierta/techo\",\"N\":\"Inst. HS PB\",\n",
        "            \"O\":\"Inst. eléctrica PB\",\"P\":\"Aplanados exteriores\",\"Q\":\"Aplanados interiores PB\",\n",
        "            \"R\":\"Carpintería/cancel.\", \"S\":\"Pisos PB\",\"T\":\"Inst. HS PA\",\"U\":\"Inst. eléctrica PA\",\n",
        "            \"V\":\"Aplanados interiores PA\",\"W\":\"Pisos PA\",\"X\":\"Pintura exterior\",\n",
        "            \"Y\":\"Pintura interior\",\"Z\":\"Accesorios exteriores\",\"AA\":\"Accesorios interiores\",\n",
        "            \"AB\":\"Limpieza y entrega\"\n",
        "        }[v],\n",
        "        \"Dur\": dur[v],\n",
        "        \"ES\": ES[v], \"EF\": EF[v], \"LS\": LS[v], \"LF\": LF[v],\n",
        "        \"Holgura\": slack[v],\n",
        "        \"Crítica\": \"Sí\" if slack[v]==0 else \"No\"\n",
        "    })\n",
        "\n",
        "tabla = pd.DataFrame(rows).set_index(\"Act\")\n",
        "tabla.sort_values(\"ES\")"
      ],
      "metadata": {
        "id": "81C0sAjmp1D6",
        "colab": {
          "base_uri": "https://localhost:8080/",
          "height": 948
        },
        "outputId": "9db46d3f-b8b7-440b-e3b2-f12be71202b8"
      },
      "execution_count": 9,
      "outputs": [
        {
          "output_type": "execute_result",
          "data": {
            "text/plain": [
              "                     Descripción  Dur  ES  EF  LS  LF  Holgura Crítica\n",
              "Act                                                                   \n",
              "A           Permisos y licencias    2   0   2   0   2        0      Sí\n",
              "B          Diseño arquitectónico    3   2   5   2   5        0      Sí\n",
              "D    Topografía/estudio de suelo    2   2   4   4   6        2      No\n",
              "E             Trazo y nivelación    1   4   5   6   7        2      No\n",
              "C             Diseño estructural    2   5   7   5   7        0      Sí\n",
              "F                     Excavación    2   7   9   7   9        0      Sí\n",
              "G                    Cimentación    3   9  12   9  12        0      Sí\n",
              "H            Losa de cimentación    2  12  14  12  14        0      Sí\n",
              "I                       Muros PB    3  14  17  14  17        0      Sí\n",
              "J              Columnas/vigas PB    2  17  19  17  19        0      Sí\n",
              "N                    Inst. HS PB    3  17  20  23  26        6      No\n",
              "O             Inst. eléctrica PB    2  17  19  24  26        7      No\n",
              "K                 Losa entrepiso    2  19  21  19  21        0      Sí\n",
              "Q        Aplanados interiores PB    3  20  23  26  29        6      No\n",
              "L                       Muros PA    3  21  24  21  24        0      Sí\n",
              "S                       Pisos PB    2  23  25  31  33        8      No\n",
              "M                 Cubierta/techo    2  24  26  24  26        0      Sí\n",
              "T                    Inst. HS PA    3  24  27  25  28        1      No\n",
              "U             Inst. eléctrica PA    2  24  26  26  28        2      No\n",
              "P           Aplanados exteriores    3  26  29  26  29        0      Sí\n",
              "V        Aplanados interiores PA    3  27  30  28  31        1      No\n",
              "R            Carpintería/cancel.    2  29  31  29  31        0      Sí\n",
              "W                       Pisos PA    2  30  32  31  33        1      No\n",
              "X               Pintura exterior    2  31  33  31  33        0      Sí\n",
              "Y               Pintura interior    2  31  33  31  33        0      Sí\n",
              "Z          Accesorios exteriores    1  33  34  33  34        0      Sí\n",
              "AA         Accesorios interiores    1  33  34  33  34        0      Sí\n",
              "AB            Limpieza y entrega    1  34  35  34  35        0      Sí"
            ],
            "text/html": [
              "\n",
              "  <div id=\"df-0daef0a2-4a8f-49fa-80e5-10ba8941c6a6\" class=\"colab-df-container\">\n",
              "    <div>\n",
              "<style scoped>\n",
              "    .dataframe tbody tr th:only-of-type {\n",
              "        vertical-align: middle;\n",
              "    }\n",
              "\n",
              "    .dataframe tbody tr th {\n",
              "        vertical-align: top;\n",
              "    }\n",
              "\n",
              "    .dataframe thead th {\n",
              "        text-align: right;\n",
              "    }\n",
              "</style>\n",
              "<table border=\"1\" class=\"dataframe\">\n",
              "  <thead>\n",
              "    <tr style=\"text-align: right;\">\n",
              "      <th></th>\n",
              "      <th>Descripción</th>\n",
              "      <th>Dur</th>\n",
              "      <th>ES</th>\n",
              "      <th>EF</th>\n",
              "      <th>LS</th>\n",
              "      <th>LF</th>\n",
              "      <th>Holgura</th>\n",
              "      <th>Crítica</th>\n",
              "    </tr>\n",
              "    <tr>\n",
              "      <th>Act</th>\n",
              "      <th></th>\n",
              "      <th></th>\n",
              "      <th></th>\n",
              "      <th></th>\n",
              "      <th></th>\n",
              "      <th></th>\n",
              "      <th></th>\n",
              "      <th></th>\n",
              "    </tr>\n",
              "  </thead>\n",
              "  <tbody>\n",
              "    <tr>\n",
              "      <th>A</th>\n",
              "      <td>Permisos y licencias</td>\n",
              "      <td>2</td>\n",
              "      <td>0</td>\n",
              "      <td>2</td>\n",
              "      <td>0</td>\n",
              "      <td>2</td>\n",
              "      <td>0</td>\n",
              "      <td>Sí</td>\n",
              "    </tr>\n",
              "    <tr>\n",
              "      <th>B</th>\n",
              "      <td>Diseño arquitectónico</td>\n",
              "      <td>3</td>\n",
              "      <td>2</td>\n",
              "      <td>5</td>\n",
              "      <td>2</td>\n",
              "      <td>5</td>\n",
              "      <td>0</td>\n",
              "      <td>Sí</td>\n",
              "    </tr>\n",
              "    <tr>\n",
              "      <th>D</th>\n",
              "      <td>Topografía/estudio de suelo</td>\n",
              "      <td>2</td>\n",
              "      <td>2</td>\n",
              "      <td>4</td>\n",
              "      <td>4</td>\n",
              "      <td>6</td>\n",
              "      <td>2</td>\n",
              "      <td>No</td>\n",
              "    </tr>\n",
              "    <tr>\n",
              "      <th>E</th>\n",
              "      <td>Trazo y nivelación</td>\n",
              "      <td>1</td>\n",
              "      <td>4</td>\n",
              "      <td>5</td>\n",
              "      <td>6</td>\n",
              "      <td>7</td>\n",
              "      <td>2</td>\n",
              "      <td>No</td>\n",
              "    </tr>\n",
              "    <tr>\n",
              "      <th>C</th>\n",
              "      <td>Diseño estructural</td>\n",
              "      <td>2</td>\n",
              "      <td>5</td>\n",
              "      <td>7</td>\n",
              "      <td>5</td>\n",
              "      <td>7</td>\n",
              "      <td>0</td>\n",
              "      <td>Sí</td>\n",
              "    </tr>\n",
              "    <tr>\n",
              "      <th>F</th>\n",
              "      <td>Excavación</td>\n",
              "      <td>2</td>\n",
              "      <td>7</td>\n",
              "      <td>9</td>\n",
              "      <td>7</td>\n",
              "      <td>9</td>\n",
              "      <td>0</td>\n",
              "      <td>Sí</td>\n",
              "    </tr>\n",
              "    <tr>\n",
              "      <th>G</th>\n",
              "      <td>Cimentación</td>\n",
              "      <td>3</td>\n",
              "      <td>9</td>\n",
              "      <td>12</td>\n",
              "      <td>9</td>\n",
              "      <td>12</td>\n",
              "      <td>0</td>\n",
              "      <td>Sí</td>\n",
              "    </tr>\n",
              "    <tr>\n",
              "      <th>H</th>\n",
              "      <td>Losa de cimentación</td>\n",
              "      <td>2</td>\n",
              "      <td>12</td>\n",
              "      <td>14</td>\n",
              "      <td>12</td>\n",
              "      <td>14</td>\n",
              "      <td>0</td>\n",
              "      <td>Sí</td>\n",
              "    </tr>\n",
              "    <tr>\n",
              "      <th>I</th>\n",
              "      <td>Muros PB</td>\n",
              "      <td>3</td>\n",
              "      <td>14</td>\n",
              "      <td>17</td>\n",
              "      <td>14</td>\n",
              "      <td>17</td>\n",
              "      <td>0</td>\n",
              "      <td>Sí</td>\n",
              "    </tr>\n",
              "    <tr>\n",
              "      <th>J</th>\n",
              "      <td>Columnas/vigas PB</td>\n",
              "      <td>2</td>\n",
              "      <td>17</td>\n",
              "      <td>19</td>\n",
              "      <td>17</td>\n",
              "      <td>19</td>\n",
              "      <td>0</td>\n",
              "      <td>Sí</td>\n",
              "    </tr>\n",
              "    <tr>\n",
              "      <th>N</th>\n",
              "      <td>Inst. HS PB</td>\n",
              "      <td>3</td>\n",
              "      <td>17</td>\n",
              "      <td>20</td>\n",
              "      <td>23</td>\n",
              "      <td>26</td>\n",
              "      <td>6</td>\n",
              "      <td>No</td>\n",
              "    </tr>\n",
              "    <tr>\n",
              "      <th>O</th>\n",
              "      <td>Inst. eléctrica PB</td>\n",
              "      <td>2</td>\n",
              "      <td>17</td>\n",
              "      <td>19</td>\n",
              "      <td>24</td>\n",
              "      <td>26</td>\n",
              "      <td>7</td>\n",
              "      <td>No</td>\n",
              "    </tr>\n",
              "    <tr>\n",
              "      <th>K</th>\n",
              "      <td>Losa entrepiso</td>\n",
              "      <td>2</td>\n",
              "      <td>19</td>\n",
              "      <td>21</td>\n",
              "      <td>19</td>\n",
              "      <td>21</td>\n",
              "      <td>0</td>\n",
              "      <td>Sí</td>\n",
              "    </tr>\n",
              "    <tr>\n",
              "      <th>Q</th>\n",
              "      <td>Aplanados interiores PB</td>\n",
              "      <td>3</td>\n",
              "      <td>20</td>\n",
              "      <td>23</td>\n",
              "      <td>26</td>\n",
              "      <td>29</td>\n",
              "      <td>6</td>\n",
              "      <td>No</td>\n",
              "    </tr>\n",
              "    <tr>\n",
              "      <th>L</th>\n",
              "      <td>Muros PA</td>\n",
              "      <td>3</td>\n",
              "      <td>21</td>\n",
              "      <td>24</td>\n",
              "      <td>21</td>\n",
              "      <td>24</td>\n",
              "      <td>0</td>\n",
              "      <td>Sí</td>\n",
              "    </tr>\n",
              "    <tr>\n",
              "      <th>S</th>\n",
              "      <td>Pisos PB</td>\n",
              "      <td>2</td>\n",
              "      <td>23</td>\n",
              "      <td>25</td>\n",
              "      <td>31</td>\n",
              "      <td>33</td>\n",
              "      <td>8</td>\n",
              "      <td>No</td>\n",
              "    </tr>\n",
              "    <tr>\n",
              "      <th>M</th>\n",
              "      <td>Cubierta/techo</td>\n",
              "      <td>2</td>\n",
              "      <td>24</td>\n",
              "      <td>26</td>\n",
              "      <td>24</td>\n",
              "      <td>26</td>\n",
              "      <td>0</td>\n",
              "      <td>Sí</td>\n",
              "    </tr>\n",
              "    <tr>\n",
              "      <th>T</th>\n",
              "      <td>Inst. HS PA</td>\n",
              "      <td>3</td>\n",
              "      <td>24</td>\n",
              "      <td>27</td>\n",
              "      <td>25</td>\n",
              "      <td>28</td>\n",
              "      <td>1</td>\n",
              "      <td>No</td>\n",
              "    </tr>\n",
              "    <tr>\n",
              "      <th>U</th>\n",
              "      <td>Inst. eléctrica PA</td>\n",
              "      <td>2</td>\n",
              "      <td>24</td>\n",
              "      <td>26</td>\n",
              "      <td>26</td>\n",
              "      <td>28</td>\n",
              "      <td>2</td>\n",
              "      <td>No</td>\n",
              "    </tr>\n",
              "    <tr>\n",
              "      <th>P</th>\n",
              "      <td>Aplanados exteriores</td>\n",
              "      <td>3</td>\n",
              "      <td>26</td>\n",
              "      <td>29</td>\n",
              "      <td>26</td>\n",
              "      <td>29</td>\n",
              "      <td>0</td>\n",
              "      <td>Sí</td>\n",
              "    </tr>\n",
              "    <tr>\n",
              "      <th>V</th>\n",
              "      <td>Aplanados interiores PA</td>\n",
              "      <td>3</td>\n",
              "      <td>27</td>\n",
              "      <td>30</td>\n",
              "      <td>28</td>\n",
              "      <td>31</td>\n",
              "      <td>1</td>\n",
              "      <td>No</td>\n",
              "    </tr>\n",
              "    <tr>\n",
              "      <th>R</th>\n",
              "      <td>Carpintería/cancel.</td>\n",
              "      <td>2</td>\n",
              "      <td>29</td>\n",
              "      <td>31</td>\n",
              "      <td>29</td>\n",
              "      <td>31</td>\n",
              "      <td>0</td>\n",
              "      <td>Sí</td>\n",
              "    </tr>\n",
              "    <tr>\n",
              "      <th>W</th>\n",
              "      <td>Pisos PA</td>\n",
              "      <td>2</td>\n",
              "      <td>30</td>\n",
              "      <td>32</td>\n",
              "      <td>31</td>\n",
              "      <td>33</td>\n",
              "      <td>1</td>\n",
              "      <td>No</td>\n",
              "    </tr>\n",
              "    <tr>\n",
              "      <th>X</th>\n",
              "      <td>Pintura exterior</td>\n",
              "      <td>2</td>\n",
              "      <td>31</td>\n",
              "      <td>33</td>\n",
              "      <td>31</td>\n",
              "      <td>33</td>\n",
              "      <td>0</td>\n",
              "      <td>Sí</td>\n",
              "    </tr>\n",
              "    <tr>\n",
              "      <th>Y</th>\n",
              "      <td>Pintura interior</td>\n",
              "      <td>2</td>\n",
              "      <td>31</td>\n",
              "      <td>33</td>\n",
              "      <td>31</td>\n",
              "      <td>33</td>\n",
              "      <td>0</td>\n",
              "      <td>Sí</td>\n",
              "    </tr>\n",
              "    <tr>\n",
              "      <th>Z</th>\n",
              "      <td>Accesorios exteriores</td>\n",
              "      <td>1</td>\n",
              "      <td>33</td>\n",
              "      <td>34</td>\n",
              "      <td>33</td>\n",
              "      <td>34</td>\n",
              "      <td>0</td>\n",
              "      <td>Sí</td>\n",
              "    </tr>\n",
              "    <tr>\n",
              "      <th>AA</th>\n",
              "      <td>Accesorios interiores</td>\n",
              "      <td>1</td>\n",
              "      <td>33</td>\n",
              "      <td>34</td>\n",
              "      <td>33</td>\n",
              "      <td>34</td>\n",
              "      <td>0</td>\n",
              "      <td>Sí</td>\n",
              "    </tr>\n",
              "    <tr>\n",
              "      <th>AB</th>\n",
              "      <td>Limpieza y entrega</td>\n",
              "      <td>1</td>\n",
              "      <td>34</td>\n",
              "      <td>35</td>\n",
              "      <td>34</td>\n",
              "      <td>35</td>\n",
              "      <td>0</td>\n",
              "      <td>Sí</td>\n",
              "    </tr>\n",
              "  </tbody>\n",
              "</table>\n",
              "</div>\n",
              "    <div class=\"colab-df-buttons\">\n",
              "\n",
              "  <div class=\"colab-df-container\">\n",
              "    <button class=\"colab-df-convert\" onclick=\"convertToInteractive('df-0daef0a2-4a8f-49fa-80e5-10ba8941c6a6')\"\n",
              "            title=\"Convert this dataframe to an interactive table.\"\n",
              "            style=\"display:none;\">\n",
              "\n",
              "  <svg xmlns=\"http://www.w3.org/2000/svg\" height=\"24px\" viewBox=\"0 -960 960 960\">\n",
              "    <path d=\"M120-120v-720h720v720H120Zm60-500h600v-160H180v160Zm220 220h160v-160H400v160Zm0 220h160v-160H400v160ZM180-400h160v-160H180v160Zm440 0h160v-160H620v160ZM180-180h160v-160H180v160Zm440 0h160v-160H620v160Z\"/>\n",
              "  </svg>\n",
              "    </button>\n",
              "\n",
              "  <style>\n",
              "    .colab-df-container {\n",
              "      display:flex;\n",
              "      gap: 12px;\n",
              "    }\n",
              "\n",
              "    .colab-df-convert {\n",
              "      background-color: #E8F0FE;\n",
              "      border: none;\n",
              "      border-radius: 50%;\n",
              "      cursor: pointer;\n",
              "      display: none;\n",
              "      fill: #1967D2;\n",
              "      height: 32px;\n",
              "      padding: 0 0 0 0;\n",
              "      width: 32px;\n",
              "    }\n",
              "\n",
              "    .colab-df-convert:hover {\n",
              "      background-color: #E2EBFA;\n",
              "      box-shadow: 0px 1px 2px rgba(60, 64, 67, 0.3), 0px 1px 3px 1px rgba(60, 64, 67, 0.15);\n",
              "      fill: #174EA6;\n",
              "    }\n",
              "\n",
              "    .colab-df-buttons div {\n",
              "      margin-bottom: 4px;\n",
              "    }\n",
              "\n",
              "    [theme=dark] .colab-df-convert {\n",
              "      background-color: #3B4455;\n",
              "      fill: #D2E3FC;\n",
              "    }\n",
              "\n",
              "    [theme=dark] .colab-df-convert:hover {\n",
              "      background-color: #434B5C;\n",
              "      box-shadow: 0px 1px 3px 1px rgba(0, 0, 0, 0.15);\n",
              "      filter: drop-shadow(0px 1px 2px rgba(0, 0, 0, 0.3));\n",
              "      fill: #FFFFFF;\n",
              "    }\n",
              "  </style>\n",
              "\n",
              "    <script>\n",
              "      const buttonEl =\n",
              "        document.querySelector('#df-0daef0a2-4a8f-49fa-80e5-10ba8941c6a6 button.colab-df-convert');\n",
              "      buttonEl.style.display =\n",
              "        google.colab.kernel.accessAllowed ? 'block' : 'none';\n",
              "\n",
              "      async function convertToInteractive(key) {\n",
              "        const element = document.querySelector('#df-0daef0a2-4a8f-49fa-80e5-10ba8941c6a6');\n",
              "        const dataTable =\n",
              "          await google.colab.kernel.invokeFunction('convertToInteractive',\n",
              "                                                    [key], {});\n",
              "        if (!dataTable) return;\n",
              "\n",
              "        const docLinkHtml = 'Like what you see? Visit the ' +\n",
              "          '<a target=\"_blank\" href=https://colab.research.google.com/notebooks/data_table.ipynb>data table notebook</a>'\n",
              "          + ' to learn more about interactive tables.';\n",
              "        element.innerHTML = '';\n",
              "        dataTable['output_type'] = 'display_data';\n",
              "        await google.colab.output.renderOutput(dataTable, element);\n",
              "        const docLink = document.createElement('div');\n",
              "        docLink.innerHTML = docLinkHtml;\n",
              "        element.appendChild(docLink);\n",
              "      }\n",
              "    </script>\n",
              "  </div>\n",
              "\n",
              "\n",
              "    <div id=\"df-b0c0ec88-a2bb-4f34-b80c-fb90c711406c\">\n",
              "      <button class=\"colab-df-quickchart\" onclick=\"quickchart('df-b0c0ec88-a2bb-4f34-b80c-fb90c711406c')\"\n",
              "                title=\"Suggest charts\"\n",
              "                style=\"display:none;\">\n",
              "\n",
              "<svg xmlns=\"http://www.w3.org/2000/svg\" height=\"24px\"viewBox=\"0 0 24 24\"\n",
              "     width=\"24px\">\n",
              "    <g>\n",
              "        <path d=\"M19 3H5c-1.1 0-2 .9-2 2v14c0 1.1.9 2 2 2h14c1.1 0 2-.9 2-2V5c0-1.1-.9-2-2-2zM9 17H7v-7h2v7zm4 0h-2V7h2v10zm4 0h-2v-4h2v4z\"/>\n",
              "    </g>\n",
              "</svg>\n",
              "      </button>\n",
              "\n",
              "<style>\n",
              "  .colab-df-quickchart {\n",
              "      --bg-color: #E8F0FE;\n",
              "      --fill-color: #1967D2;\n",
              "      --hover-bg-color: #E2EBFA;\n",
              "      --hover-fill-color: #174EA6;\n",
              "      --disabled-fill-color: #AAA;\n",
              "      --disabled-bg-color: #DDD;\n",
              "  }\n",
              "\n",
              "  [theme=dark] .colab-df-quickchart {\n",
              "      --bg-color: #3B4455;\n",
              "      --fill-color: #D2E3FC;\n",
              "      --hover-bg-color: #434B5C;\n",
              "      --hover-fill-color: #FFFFFF;\n",
              "      --disabled-bg-color: #3B4455;\n",
              "      --disabled-fill-color: #666;\n",
              "  }\n",
              "\n",
              "  .colab-df-quickchart {\n",
              "    background-color: var(--bg-color);\n",
              "    border: none;\n",
              "    border-radius: 50%;\n",
              "    cursor: pointer;\n",
              "    display: none;\n",
              "    fill: var(--fill-color);\n",
              "    height: 32px;\n",
              "    padding: 0;\n",
              "    width: 32px;\n",
              "  }\n",
              "\n",
              "  .colab-df-quickchart:hover {\n",
              "    background-color: var(--hover-bg-color);\n",
              "    box-shadow: 0 1px 2px rgba(60, 64, 67, 0.3), 0 1px 3px 1px rgba(60, 64, 67, 0.15);\n",
              "    fill: var(--button-hover-fill-color);\n",
              "  }\n",
              "\n",
              "  .colab-df-quickchart-complete:disabled,\n",
              "  .colab-df-quickchart-complete:disabled:hover {\n",
              "    background-color: var(--disabled-bg-color);\n",
              "    fill: var(--disabled-fill-color);\n",
              "    box-shadow: none;\n",
              "  }\n",
              "\n",
              "  .colab-df-spinner {\n",
              "    border: 2px solid var(--fill-color);\n",
              "    border-color: transparent;\n",
              "    border-bottom-color: var(--fill-color);\n",
              "    animation:\n",
              "      spin 1s steps(1) infinite;\n",
              "  }\n",
              "\n",
              "  @keyframes spin {\n",
              "    0% {\n",
              "      border-color: transparent;\n",
              "      border-bottom-color: var(--fill-color);\n",
              "      border-left-color: var(--fill-color);\n",
              "    }\n",
              "    20% {\n",
              "      border-color: transparent;\n",
              "      border-left-color: var(--fill-color);\n",
              "      border-top-color: var(--fill-color);\n",
              "    }\n",
              "    30% {\n",
              "      border-color: transparent;\n",
              "      border-left-color: var(--fill-color);\n",
              "      border-top-color: var(--fill-color);\n",
              "      border-right-color: var(--fill-color);\n",
              "    }\n",
              "    40% {\n",
              "      border-color: transparent;\n",
              "      border-right-color: var(--fill-color);\n",
              "      border-top-color: var(--fill-color);\n",
              "    }\n",
              "    60% {\n",
              "      border-color: transparent;\n",
              "      border-right-color: var(--fill-color);\n",
              "    }\n",
              "    80% {\n",
              "      border-color: transparent;\n",
              "      border-right-color: var(--fill-color);\n",
              "      border-bottom-color: var(--fill-color);\n",
              "    }\n",
              "    90% {\n",
              "      border-color: transparent;\n",
              "      border-bottom-color: var(--fill-color);\n",
              "    }\n",
              "  }\n",
              "</style>\n",
              "\n",
              "      <script>\n",
              "        async function quickchart(key) {\n",
              "          const quickchartButtonEl =\n",
              "            document.querySelector('#' + key + ' button');\n",
              "          quickchartButtonEl.disabled = true;  // To prevent multiple clicks.\n",
              "          quickchartButtonEl.classList.add('colab-df-spinner');\n",
              "          try {\n",
              "            const charts = await google.colab.kernel.invokeFunction(\n",
              "                'suggestCharts', [key], {});\n",
              "          } catch (error) {\n",
              "            console.error('Error during call to suggestCharts:', error);\n",
              "          }\n",
              "          quickchartButtonEl.classList.remove('colab-df-spinner');\n",
              "          quickchartButtonEl.classList.add('colab-df-quickchart-complete');\n",
              "        }\n",
              "        (() => {\n",
              "          let quickchartButtonEl =\n",
              "            document.querySelector('#df-b0c0ec88-a2bb-4f34-b80c-fb90c711406c button');\n",
              "          quickchartButtonEl.style.display =\n",
              "            google.colab.kernel.accessAllowed ? 'block' : 'none';\n",
              "        })();\n",
              "      </script>\n",
              "    </div>\n",
              "\n",
              "    </div>\n",
              "  </div>\n"
            ],
            "application/vnd.google.colaboratory.intrinsic+json": {
              "type": "dataframe",
              "summary": "{\n  \"name\": \"tabla\",\n  \"rows\": 28,\n  \"fields\": [\n    {\n      \"column\": \"Act\",\n      \"properties\": {\n        \"dtype\": \"string\",\n        \"num_unique_values\": 28,\n        \"samples\": [\n          \"J\",\n          \"Z\",\n          \"I\"\n        ],\n        \"semantic_type\": \"\",\n        \"description\": \"\"\n      }\n    },\n    {\n      \"column\": \"Descripci\\u00f3n\",\n      \"properties\": {\n        \"dtype\": \"string\",\n        \"num_unique_values\": 28,\n        \"samples\": [\n          \"Columnas/vigas PB\",\n          \"Accesorios exteriores\",\n          \"Muros PB\"\n        ],\n        \"semantic_type\": \"\",\n        \"description\": \"\"\n      }\n    },\n    {\n      \"column\": \"Dur\",\n      \"properties\": {\n        \"dtype\": \"number\",\n        \"std\": 0,\n        \"min\": 1,\n        \"max\": 3,\n        \"num_unique_values\": 3,\n        \"samples\": [\n          2,\n          3,\n          1\n        ],\n        \"semantic_type\": \"\",\n        \"description\": \"\"\n      }\n    },\n    {\n      \"column\": \"ES\",\n      \"properties\": {\n        \"dtype\": \"number\",\n        \"std\": 10,\n        \"min\": 0,\n        \"max\": 34,\n        \"num_unique_values\": 21,\n        \"samples\": [\n          0,\n          30,\n          27\n        ],\n        \"semantic_type\": \"\",\n        \"description\": \"\"\n      }\n    },\n    {\n      \"column\": \"EF\",\n      \"properties\": {\n        \"dtype\": \"number\",\n        \"std\": 10,\n        \"min\": 2,\n        \"max\": 35,\n        \"num_unique_values\": 23,\n        \"samples\": [\n          27,\n          20,\n          2\n        ],\n        \"semantic_type\": \"\",\n        \"description\": \"\"\n      }\n    },\n    {\n      \"column\": \"LS\",\n      \"properties\": {\n        \"dtype\": \"number\",\n        \"std\": 10,\n        \"min\": 0,\n        \"max\": 34,\n        \"num_unique_values\": 21,\n        \"samples\": [\n          0,\n          28,\n          31\n        ],\n        \"semantic_type\": \"\",\n        \"description\": \"\"\n      }\n    },\n    {\n      \"column\": \"LF\",\n      \"properties\": {\n        \"dtype\": \"number\",\n        \"std\": 10,\n        \"min\": 2,\n        \"max\": 35,\n        \"num_unique_values\": 18,\n        \"samples\": [\n          2,\n          5,\n          19\n        ],\n        \"semantic_type\": \"\",\n        \"description\": \"\"\n      }\n    },\n    {\n      \"column\": \"Holgura\",\n      \"properties\": {\n        \"dtype\": \"number\",\n        \"std\": 2,\n        \"min\": 0,\n        \"max\": 8,\n        \"num_unique_values\": 6,\n        \"samples\": [\n          0,\n          2,\n          1\n        ],\n        \"semantic_type\": \"\",\n        \"description\": \"\"\n      }\n    },\n    {\n      \"column\": \"Cr\\u00edtica\",\n      \"properties\": {\n        \"dtype\": \"category\",\n        \"num_unique_values\": 2,\n        \"samples\": [\n          \"No\",\n          \"S\\u00ed\"\n        ],\n        \"semantic_type\": \"\",\n        \"description\": \"\"\n      }\n    }\n  ]\n}"
            }
          },
          "metadata": {},
          "execution_count": 9
        }
      ]
    },
    {
      "cell_type": "markdown",
      "source": [
        "##### <font color=\"orange\"> Convertimos rows en un DataFrame de pandas, con el incide \"Act\" para agrupar por terminos de inicio para graficarlos:</font>\n",
        "\n",
        "\n",
        "\n",
        "\n"
      ],
      "metadata": {
        "id": "IhW_h7oaypzu"
      }
    },
    {
      "cell_type": "code",
      "source": [
        "plt.figure(figsize=(14,8))\n",
        "\n",
        "# Colocación: eje x ~ ES; eje y para separar\n",
        "levels = {}\n",
        "for v in topo:\n",
        "    levels.setdefault(ES[v], []).append(v)\n",
        "\n",
        "pos = {}\n",
        "y = 0\n",
        "for es in sorted(levels.keys()):\n",
        "    for v in levels[es]:\n",
        "        pos[v] = (es, -y)\n",
        "        y += 1\n",
        "\n",
        "node_colors = [\"tab:red\" if slack[v]==0 else \"lightgray\" for v in G.nodes()]\n",
        "nx.draw(G, pos, node_color=node_colors, node_size=1200, with_labels=False, arrows=True)\n",
        "\n",
        "# Etiquetas compactas\n",
        "labels = {v: f\"{v}\\n({dur[v]})\\nES:{ES[v]} EF:{EF[v]}\\nLS:{LS[v]} LF:{LF[v]}\" for v in G.nodes()}\n",
        "nx.draw_networkx_labels(G, pos, labels=labels, font_size=8)\n",
        "\n",
        "# Arcos de la ruta crítica\n",
        "cp_edges = list(zip(cp_nodes[:-1], cp_nodes[1:]))\n",
        "nx.draw_networkx_edges(G, pos, edgelist=cp_edges, width=3)\n",
        "\n",
        "plt.title(f\"CPM – Casa completa (Duración total: {project_duration} semanas)\")\n",
        "plt.axis(\"off\")\n",
        "plt.show()"
      ],
      "metadata": {
        "id": "IE2q-wEVp45z",
        "colab": {
          "base_uri": "https://localhost:8080/",
          "height": 777
        },
        "outputId": "7e8e5507-5076-4df4-de2d-51a1ef8b6bd3"
      },
      "execution_count": 10,
      "outputs": [
        {
          "output_type": "display_data",
          "data": {
            "text/plain": [
              "<Figure size 1400x800 with 1 Axes>"
            ],
            "image/png": "[encoded data removed]"
          },
          "metadata": {}
        }
      ]
    }
  ]
}